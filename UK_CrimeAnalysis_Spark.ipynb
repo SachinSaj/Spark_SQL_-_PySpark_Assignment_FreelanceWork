{
  "nbformat": 4,
  "nbformat_minor": 0,
  "metadata": {
    "accelerator": "GPU",
    "colab": {
      "name": "Spark_crime.ipynb",
      "provenance": [],
      "collapsed_sections": [],
      "toc_visible": true
    },
    "kernelspec": {
      "display_name": "Python 3",
      "language": "python",
      "name": "python3"
    },
    "language_info": {
      "codemirror_mode": {
        "name": "ipython",
        "version": 3
      },
      "file_extension": ".py",
      "mimetype": "text/x-python",
      "name": "python",
      "nbconvert_exporter": "python",
      "pygments_lexer": "ipython3",
      "version": "3.7.4"
    }
  },
  "cells": [
    {
      "cell_type": "markdown",
      "metadata": {
        "id": "Lx9-Fre4FMda"
      },
      "source": [
        ":"
      ]
    },
    {
      "cell_type": "markdown",
      "metadata": {
        "id": "GdMZR-9QTwG3"
      },
      "source": [
        "\n",
        "# **Initiate and Configure Spark**\n",
        "\n",
        "---\n"
      ]
    },
    {
      "cell_type": "code",
      "metadata": {
        "colab": {
          "base_uri": "https://localhost:8080/"
        },
        "id": "2wbXV70D6xbl",
        "outputId": "e203d2dc-878f-4b3a-ad10-c8ad088b668d"
      },
      "source": [
        "!pip install pyspark"
      ],
      "execution_count": null,
      "outputs": [
        {
          "output_type": "stream",
          "text": [
            "Requirement already satisfied: pyspark in /usr/local/lib/python3.6/dist-packages (3.0.1)\n",
            "Requirement already satisfied: py4j==0.10.9 in /usr/local/lib/python3.6/dist-packages (from pyspark) (0.10.9)\n"
          ],
          "name": "stdout"
        }
      ]
    },
    {
      "cell_type": "code",
      "metadata": {
        "id": "VK1JqzCO6-D9"
      },
      "source": [
        "import pyspark\n",
        "from pyspark.sql import SparkSession"
      ],
      "execution_count": null,
      "outputs": []
    },
    {
      "cell_type": "code",
      "metadata": {
        "id": "TrLSNb-AJrml",
        "colab": {
          "base_uri": "https://localhost:8080/",
          "height": 831
        },
        "outputId": "24764f30-9efd-4fd6-9cc4-42af5d9c5530"
      },
      "source": [
        "spark = SparkSession.builder.master(\"local[2]\").appName(\"UK_Crime_Cases_\").getOrCreate()"
      ],
      "execution_count": null,
      "outputs": [
        {
          "output_type": "stream",
          "text": [
            "ERROR:py4j.java_gateway:An error occurred while trying to connect to the Java server (127.0.0.1:46053)\n",
            "Traceback (most recent call last):\n",
            "  File \"/usr/local/lib/python3.6/dist-packages/py4j/java_gateway.py\", line 977, in _get_connection\n",
            "    connection = self.deque.pop()\n",
            "IndexError: pop from an empty deque\n",
            "\n",
            "During handling of the above exception, another exception occurred:\n",
            "\n",
            "Traceback (most recent call last):\n",
            "  File \"/usr/local/lib/python3.6/dist-packages/py4j/java_gateway.py\", line 1115, in start\n",
            "    self.socket.connect((self.address, self.port))\n",
            "ConnectionRefusedError: [Errno 111] Connection refused\n"
          ],
          "name": "stderr"
        },
        {
          "output_type": "error",
          "ename": "Py4JNetworkError",
          "evalue": "ignored",
          "traceback": [
            "\u001b[0;31m---------------------------------------------------------------------------\u001b[0m",
            "\u001b[0;31mIndexError\u001b[0m                                Traceback (most recent call last)",
            "\u001b[0;32m/usr/local/lib/python3.6/dist-packages/py4j/java_gateway.py\u001b[0m in \u001b[0;36m_get_connection\u001b[0;34m(self)\u001b[0m\n\u001b[1;32m    976\u001b[0m         \u001b[0;32mtry\u001b[0m\u001b[0;34m:\u001b[0m\u001b[0;34m\u001b[0m\u001b[0;34m\u001b[0m\u001b[0m\n\u001b[0;32m--> 977\u001b[0;31m             \u001b[0mconnection\u001b[0m \u001b[0;34m=\u001b[0m \u001b[0mself\u001b[0m\u001b[0;34m.\u001b[0m\u001b[0mdeque\u001b[0m\u001b[0;34m.\u001b[0m\u001b[0mpop\u001b[0m\u001b[0;34m(\u001b[0m\u001b[0;34m)\u001b[0m\u001b[0;34m\u001b[0m\u001b[0;34m\u001b[0m\u001b[0m\n\u001b[0m\u001b[1;32m    978\u001b[0m         \u001b[0;32mexcept\u001b[0m \u001b[0mIndexError\u001b[0m\u001b[0;34m:\u001b[0m\u001b[0;34m\u001b[0m\u001b[0;34m\u001b[0m\u001b[0m\n",
            "\u001b[0;31mIndexError\u001b[0m: pop from an empty deque",
            "\nDuring handling of the above exception, another exception occurred:\n",
            "\u001b[0;31mConnectionRefusedError\u001b[0m                    Traceback (most recent call last)",
            "\u001b[0;32m/usr/local/lib/python3.6/dist-packages/py4j/java_gateway.py\u001b[0m in \u001b[0;36mstart\u001b[0;34m(self)\u001b[0m\n\u001b[1;32m   1114\u001b[0m         \u001b[0;32mtry\u001b[0m\u001b[0;34m:\u001b[0m\u001b[0;34m\u001b[0m\u001b[0;34m\u001b[0m\u001b[0m\n\u001b[0;32m-> 1115\u001b[0;31m             \u001b[0mself\u001b[0m\u001b[0;34m.\u001b[0m\u001b[0msocket\u001b[0m\u001b[0;34m.\u001b[0m\u001b[0mconnect\u001b[0m\u001b[0;34m(\u001b[0m\u001b[0;34m(\u001b[0m\u001b[0mself\u001b[0m\u001b[0;34m.\u001b[0m\u001b[0maddress\u001b[0m\u001b[0;34m,\u001b[0m \u001b[0mself\u001b[0m\u001b[0;34m.\u001b[0m\u001b[0mport\u001b[0m\u001b[0;34m)\u001b[0m\u001b[0;34m)\u001b[0m\u001b[0;34m\u001b[0m\u001b[0;34m\u001b[0m\u001b[0m\n\u001b[0m\u001b[1;32m   1116\u001b[0m             \u001b[0mself\u001b[0m\u001b[0;34m.\u001b[0m\u001b[0mstream\u001b[0m \u001b[0;34m=\u001b[0m \u001b[0mself\u001b[0m\u001b[0;34m.\u001b[0m\u001b[0msocket\u001b[0m\u001b[0;34m.\u001b[0m\u001b[0mmakefile\u001b[0m\u001b[0;34m(\u001b[0m\u001b[0;34m\"rb\"\u001b[0m\u001b[0;34m)\u001b[0m\u001b[0;34m\u001b[0m\u001b[0;34m\u001b[0m\u001b[0m\n",
            "\u001b[0;31mConnectionRefusedError\u001b[0m: [Errno 111] Connection refused",
            "\nDuring handling of the above exception, another exception occurred:\n",
            "\u001b[0;31mPy4JNetworkError\u001b[0m                          Traceback (most recent call last)",
            "\u001b[0;32m<ipython-input-91-ff52adea050f>\u001b[0m in \u001b[0;36m<module>\u001b[0;34m()\u001b[0m\n\u001b[0;32m----> 1\u001b[0;31m \u001b[0mspark\u001b[0m \u001b[0;34m=\u001b[0m \u001b[0mSparkSession\u001b[0m\u001b[0;34m.\u001b[0m\u001b[0mbuilder\u001b[0m\u001b[0;34m.\u001b[0m\u001b[0mmaster\u001b[0m\u001b[0;34m(\u001b[0m\u001b[0;34m\"local[2]\"\u001b[0m\u001b[0;34m)\u001b[0m\u001b[0;34m.\u001b[0m\u001b[0mappName\u001b[0m\u001b[0;34m(\u001b[0m\u001b[0;34m\"UK_Crime_Cases_\"\u001b[0m\u001b[0;34m)\u001b[0m\u001b[0;34m.\u001b[0m\u001b[0mgetOrCreate\u001b[0m\u001b[0;34m(\u001b[0m\u001b[0;34m)\u001b[0m\u001b[0;34m\u001b[0m\u001b[0;34m\u001b[0m\u001b[0m\n\u001b[0m",
            "\u001b[0;32m/usr/local/lib/python3.6/dist-packages/pyspark/sql/session.py\u001b[0m in \u001b[0;36mgetOrCreate\u001b[0;34m(self)\u001b[0m\n\u001b[1;32m    189\u001b[0m                     \u001b[0msession\u001b[0m \u001b[0;34m=\u001b[0m \u001b[0mSparkSession\u001b[0m\u001b[0;34m(\u001b[0m\u001b[0msc\u001b[0m\u001b[0;34m)\u001b[0m\u001b[0;34m\u001b[0m\u001b[0;34m\u001b[0m\u001b[0m\n\u001b[1;32m    190\u001b[0m                 \u001b[0;32mfor\u001b[0m \u001b[0mkey\u001b[0m\u001b[0;34m,\u001b[0m \u001b[0mvalue\u001b[0m \u001b[0;32min\u001b[0m \u001b[0mself\u001b[0m\u001b[0;34m.\u001b[0m\u001b[0m_options\u001b[0m\u001b[0;34m.\u001b[0m\u001b[0mitems\u001b[0m\u001b[0;34m(\u001b[0m\u001b[0;34m)\u001b[0m\u001b[0;34m:\u001b[0m\u001b[0;34m\u001b[0m\u001b[0;34m\u001b[0m\u001b[0m\n\u001b[0;32m--> 191\u001b[0;31m                     \u001b[0msession\u001b[0m\u001b[0;34m.\u001b[0m\u001b[0m_jsparkSession\u001b[0m\u001b[0;34m.\u001b[0m\u001b[0msessionState\u001b[0m\u001b[0;34m(\u001b[0m\u001b[0;34m)\u001b[0m\u001b[0;34m.\u001b[0m\u001b[0mconf\u001b[0m\u001b[0;34m(\u001b[0m\u001b[0;34m)\u001b[0m\u001b[0;34m.\u001b[0m\u001b[0msetConfString\u001b[0m\u001b[0;34m(\u001b[0m\u001b[0mkey\u001b[0m\u001b[0;34m,\u001b[0m \u001b[0mvalue\u001b[0m\u001b[0;34m)\u001b[0m\u001b[0;34m\u001b[0m\u001b[0;34m\u001b[0m\u001b[0m\n\u001b[0m\u001b[1;32m    192\u001b[0m                 \u001b[0;32mreturn\u001b[0m \u001b[0msession\u001b[0m\u001b[0;34m\u001b[0m\u001b[0;34m\u001b[0m\u001b[0m\n\u001b[1;32m    193\u001b[0m \u001b[0;34m\u001b[0m\u001b[0m\n",
            "\u001b[0;32m/usr/local/lib/python3.6/dist-packages/py4j/java_gateway.py\u001b[0m in \u001b[0;36m__call__\u001b[0;34m(self, *args)\u001b[0m\n\u001b[1;32m   1301\u001b[0m             \u001b[0mproto\u001b[0m\u001b[0;34m.\u001b[0m\u001b[0mEND_COMMAND_PART\u001b[0m\u001b[0;34m\u001b[0m\u001b[0;34m\u001b[0m\u001b[0m\n\u001b[1;32m   1302\u001b[0m \u001b[0;34m\u001b[0m\u001b[0m\n\u001b[0;32m-> 1303\u001b[0;31m         \u001b[0manswer\u001b[0m \u001b[0;34m=\u001b[0m \u001b[0mself\u001b[0m\u001b[0;34m.\u001b[0m\u001b[0mgateway_client\u001b[0m\u001b[0;34m.\u001b[0m\u001b[0msend_command\u001b[0m\u001b[0;34m(\u001b[0m\u001b[0mcommand\u001b[0m\u001b[0;34m)\u001b[0m\u001b[0;34m\u001b[0m\u001b[0;34m\u001b[0m\u001b[0m\n\u001b[0m\u001b[1;32m   1304\u001b[0m         return_value = get_return_value(\n\u001b[1;32m   1305\u001b[0m             answer, self.gateway_client, self.target_id, self.name)\n",
            "\u001b[0;32m/usr/local/lib/python3.6/dist-packages/py4j/java_gateway.py\u001b[0m in \u001b[0;36msend_command\u001b[0;34m(self, command, retry, binary)\u001b[0m\n\u001b[1;32m   1029\u001b[0m          \u001b[0;32mif\u001b[0m\u001b[0;31m \u001b[0m\u001b[0;31m`\u001b[0m\u001b[0mbinary\u001b[0m\u001b[0;31m`\u001b[0m \u001b[0;32mis\u001b[0m\u001b[0;31m \u001b[0m\u001b[0;31m`\u001b[0m\u001b[0;32mTrue\u001b[0m\u001b[0;31m`\u001b[0m\u001b[0;34m.\u001b[0m\u001b[0;34m\u001b[0m\u001b[0;34m\u001b[0m\u001b[0m\n\u001b[1;32m   1030\u001b[0m         \"\"\"\n\u001b[0;32m-> 1031\u001b[0;31m         \u001b[0mconnection\u001b[0m \u001b[0;34m=\u001b[0m \u001b[0mself\u001b[0m\u001b[0;34m.\u001b[0m\u001b[0m_get_connection\u001b[0m\u001b[0;34m(\u001b[0m\u001b[0;34m)\u001b[0m\u001b[0;34m\u001b[0m\u001b[0;34m\u001b[0m\u001b[0m\n\u001b[0m\u001b[1;32m   1032\u001b[0m         \u001b[0;32mtry\u001b[0m\u001b[0;34m:\u001b[0m\u001b[0;34m\u001b[0m\u001b[0;34m\u001b[0m\u001b[0m\n\u001b[1;32m   1033\u001b[0m             \u001b[0mresponse\u001b[0m \u001b[0;34m=\u001b[0m \u001b[0mconnection\u001b[0m\u001b[0;34m.\u001b[0m\u001b[0msend_command\u001b[0m\u001b[0;34m(\u001b[0m\u001b[0mcommand\u001b[0m\u001b[0;34m)\u001b[0m\u001b[0;34m\u001b[0m\u001b[0;34m\u001b[0m\u001b[0m\n",
            "\u001b[0;32m/usr/local/lib/python3.6/dist-packages/py4j/java_gateway.py\u001b[0m in \u001b[0;36m_get_connection\u001b[0;34m(self)\u001b[0m\n\u001b[1;32m    977\u001b[0m             \u001b[0mconnection\u001b[0m \u001b[0;34m=\u001b[0m \u001b[0mself\u001b[0m\u001b[0;34m.\u001b[0m\u001b[0mdeque\u001b[0m\u001b[0;34m.\u001b[0m\u001b[0mpop\u001b[0m\u001b[0;34m(\u001b[0m\u001b[0;34m)\u001b[0m\u001b[0;34m\u001b[0m\u001b[0;34m\u001b[0m\u001b[0m\n\u001b[1;32m    978\u001b[0m         \u001b[0;32mexcept\u001b[0m \u001b[0mIndexError\u001b[0m\u001b[0;34m:\u001b[0m\u001b[0;34m\u001b[0m\u001b[0;34m\u001b[0m\u001b[0m\n\u001b[0;32m--> 979\u001b[0;31m             \u001b[0mconnection\u001b[0m \u001b[0;34m=\u001b[0m \u001b[0mself\u001b[0m\u001b[0;34m.\u001b[0m\u001b[0m_create_connection\u001b[0m\u001b[0;34m(\u001b[0m\u001b[0;34m)\u001b[0m\u001b[0;34m\u001b[0m\u001b[0;34m\u001b[0m\u001b[0m\n\u001b[0m\u001b[1;32m    980\u001b[0m         \u001b[0;32mreturn\u001b[0m \u001b[0mconnection\u001b[0m\u001b[0;34m\u001b[0m\u001b[0;34m\u001b[0m\u001b[0m\n\u001b[1;32m    981\u001b[0m \u001b[0;34m\u001b[0m\u001b[0m\n",
            "\u001b[0;32m/usr/local/lib/python3.6/dist-packages/py4j/java_gateway.py\u001b[0m in \u001b[0;36m_create_connection\u001b[0;34m(self)\u001b[0m\n\u001b[1;32m    983\u001b[0m         connection = GatewayConnection(\n\u001b[1;32m    984\u001b[0m             self.gateway_parameters, self.gateway_property)\n\u001b[0;32m--> 985\u001b[0;31m         \u001b[0mconnection\u001b[0m\u001b[0;34m.\u001b[0m\u001b[0mstart\u001b[0m\u001b[0;34m(\u001b[0m\u001b[0;34m)\u001b[0m\u001b[0;34m\u001b[0m\u001b[0;34m\u001b[0m\u001b[0m\n\u001b[0m\u001b[1;32m    986\u001b[0m         \u001b[0;32mreturn\u001b[0m \u001b[0mconnection\u001b[0m\u001b[0;34m\u001b[0m\u001b[0;34m\u001b[0m\u001b[0m\n\u001b[1;32m    987\u001b[0m \u001b[0;34m\u001b[0m\u001b[0m\n",
            "\u001b[0;32m/usr/local/lib/python3.6/dist-packages/py4j/java_gateway.py\u001b[0m in \u001b[0;36mstart\u001b[0;34m(self)\u001b[0m\n\u001b[1;32m   1125\u001b[0m                 \u001b[0;34m\"server ({0}:{1})\"\u001b[0m\u001b[0;34m.\u001b[0m\u001b[0mformat\u001b[0m\u001b[0;34m(\u001b[0m\u001b[0mself\u001b[0m\u001b[0;34m.\u001b[0m\u001b[0maddress\u001b[0m\u001b[0;34m,\u001b[0m \u001b[0mself\u001b[0m\u001b[0;34m.\u001b[0m\u001b[0mport\u001b[0m\u001b[0;34m)\u001b[0m\u001b[0;34m\u001b[0m\u001b[0;34m\u001b[0m\u001b[0m\n\u001b[1;32m   1126\u001b[0m             \u001b[0mlogger\u001b[0m\u001b[0;34m.\u001b[0m\u001b[0mexception\u001b[0m\u001b[0;34m(\u001b[0m\u001b[0mmsg\u001b[0m\u001b[0;34m)\u001b[0m\u001b[0;34m\u001b[0m\u001b[0;34m\u001b[0m\u001b[0m\n\u001b[0;32m-> 1127\u001b[0;31m             \u001b[0;32mraise\u001b[0m \u001b[0mPy4JNetworkError\u001b[0m\u001b[0;34m(\u001b[0m\u001b[0mmsg\u001b[0m\u001b[0;34m,\u001b[0m \u001b[0me\u001b[0m\u001b[0;34m)\u001b[0m\u001b[0;34m\u001b[0m\u001b[0;34m\u001b[0m\u001b[0m\n\u001b[0m\u001b[1;32m   1128\u001b[0m \u001b[0;34m\u001b[0m\u001b[0m\n\u001b[1;32m   1129\u001b[0m     \u001b[0;32mdef\u001b[0m \u001b[0m_authenticate_connection\u001b[0m\u001b[0;34m(\u001b[0m\u001b[0mself\u001b[0m\u001b[0;34m)\u001b[0m\u001b[0;34m:\u001b[0m\u001b[0;34m\u001b[0m\u001b[0;34m\u001b[0m\u001b[0m\n",
            "\u001b[0;31mPy4JNetworkError\u001b[0m: An error occurred while trying to connect to the Java server (127.0.0.1:46053)"
          ]
        }
      ]
    },
    {
      "cell_type": "code",
      "metadata": {
        "colab": {
          "base_uri": "https://localhost:8080/"
        },
        "id": "_z0p88Xtw_3-",
        "outputId": "42d27875-e8d5-457b-d3a6-177aba14fec9"
      },
      "source": [
        "from google.colab import drive\n",
        "drive.mount('/content/drive')\n",
        "\n",
        "# Note: If you want to work with RDD, you should use: \"from pyspark import SparkContext, SparkConf\""
      ],
      "execution_count": null,
      "outputs": [
        {
          "output_type": "stream",
          "text": [
            "Drive already mounted at /content/drive; to attempt to forcibly remount, call drive.mount(\"/content/drive\", force_remount=True).\n"
          ],
          "name": "stdout"
        }
      ]
    },
    {
      "cell_type": "markdown",
      "metadata": {
        "id": "6P2CZVl6TOQX"
      },
      "source": [
        "\n",
        "# **Load Data**\n",
        "\n",
        "---\n"
      ]
    },
    {
      "cell_type": "code",
      "metadata": {
        "id": "JPYL0Xou8lKv"
      },
      "source": [
        "# Load Data\n",
        "LSOA = spark.read.load(\"/content/drive/MyDrive/Colab Notebooks/Big Data Datasets/Population Data by LSOA.csv\", format=\"csv\", inferSchema=True, header=True)\n",
        "df2 = spark.read.load(\"/content/drive/MyDrive/Colab Notebooks/Big Data Datasets/all_crimes18_hdr.txt.gz\", format=\"csv\", inferSchema=True, header=True)\n",
        "#df2 = spark.read.load(\"/content/drive/MyDrive/Colab Notebooks/SparkSQL/02-15-2018.csv\", format=\"csv\", inferSchema=True, header=True)\n"
      ],
      "execution_count": null,
      "outputs": []
    },
    {
      "cell_type": "code",
      "metadata": {
        "colab": {
          "base_uri": "https://localhost:8080/"
        },
        "id": "kf7bPghI3sT4",
        "outputId": "df029337-d991-40a8-8dc5-c71fc9bd0358"
      },
      "source": [
        "LSOA.show(5)"
      ],
      "execution_count": null,
      "outputs": [
        {
          "output_type": "stream",
          "text": [
            "+----+---------------+--------------+-----------+----------------------------------------------+--------------------------------+----------------------------------+-----------------------------------------------+------------------------------------------------------------+----------------------------------------------------------------------------------------------------------+------------------------------------------+------------------------------------------------------------------+\n",
            "|date|      geography|geography code|Rural Urban|Variable: All usual residents; measures: Value|Variable: Males; measures: Value|Variable: Females; measures: Value|Variable: Lives in a household; measures: Value|Variable: Lives in a communal establishment; measures: Value|Variable: Schoolchild or full-time student aged 4 and over at their non term-time address; measures: Value|Variable: Area (Hectares); measures: Value|Variable: Density (number of persons per hectare); measures: Value|\n",
            "+----+---------------+--------------+-----------+----------------------------------------------+--------------------------------+----------------------------------+-----------------------------------------------+------------------------------------------------------------+----------------------------------------------------------------------------------------------------------+------------------------------------------+------------------------------------------------------------------+\n",
            "|2011|Darlington 001B|     E01012334|      Total|                                          2466|                            1220|                              1246|                                           2466|                                                           0|                                                                                                        42|                                   6033.58|                                                               0.4|\n",
            "|2011|Darlington 001C|     E01012335|      Total|                                          1383|                             682|                               701|                                           1383|                                                           0|                                                                                                        21|                                    114.01|                                                              12.1|\n",
            "|2011|Darlington 001D|     E01012366|      Total|                                          2008|                             972|                              1036|                                           2008|                                                           0|                                                                                                        30|                                   6718.16|                                                               0.3|\n",
            "|2011|Darlington 001E|     E01033481|      Total|                                          1364|                             680|                               684|                                           1350|                                                          14|                                                                                                        21|                                    146.95|                                                               9.3|\n",
            "|2011|Darlington 001F|     E01033482|      Total|                                          1621|                             810|                               811|                                           1621|                                                           0|                                                                                                        16|                                    234.31|                                                               6.9|\n",
            "+----+---------------+--------------+-----------+----------------------------------------------+--------------------------------+----------------------------------+-----------------------------------------------+------------------------------------------------------------+----------------------------------------------------------------------------------------------------------+------------------------------------------+------------------------------------------------------------------+\n",
            "only showing top 5 rows\n",
            "\n"
          ],
          "name": "stdout"
        }
      ]
    },
    {
      "cell_type": "markdown",
      "metadata": {
        "id": "Ur9DcjEutmmn"
      },
      "source": [
        "# **Data Extraction and Filtering System running, test and diagnostics** "
      ]
    },
    {
      "cell_type": "code",
      "metadata": {
        "colab": {
          "base_uri": "https://localhost:8080/"
        },
        "id": "ntRpbgG93v-s",
        "outputId": "dfd7e0da-cd59-4b29-a415-504ce2c863d1"
      },
      "source": [
        "df2.show(5)"
      ],
      "execution_count": null,
      "outputs": [
        {
          "output_type": "stream",
          "text": [
            "+--------+-------+--------------------+--------------------+---------+---------+--------------------+---------+--------------------+--------------------+---------------------+-------+\n",
            "|Crime ID|  Month|         Reported by|        Falls within|Longitude| Latitude|            Location|LSOA code|           LSOA name|          Crime type|Last outcome category|Context|\n",
            "+--------+-------+--------------------+--------------------+---------+---------+--------------------+---------+--------------------+--------------------+---------------------+-------+\n",
            "|    null|2010-12|Avon and Somerset...|Avon and Somerset...|  -0.8056|51.819143|On or near Norfol...|E01017662| Aylesbury Vale 015C|         Other crime|                 null|   null|\n",
            "|    null|2010-12|Avon and Somerset...|Avon and Somerset...|-2.494366|51.418169|On or near Keynsh...|E01014399|Bath and North Ea...|Anti-social behav...|                 null|   null|\n",
            "|    null|2010-12|Avon and Somerset...|Avon and Somerset...|-2.511927|51.409435|On or near Harlec...|E01014399|Bath and North Ea...|Anti-social behav...|                 null|   null|\n",
            "|    null|2010-12|Avon and Somerset...|Avon and Somerset...|-2.511571|51.414895|On or near Orchar...|E01014399|Bath and North Ea...|Anti-social behav...|                 null|   null|\n",
            "|    null|2010-12|Avon and Somerset...|Avon and Somerset...|-2.511927|51.409435|On or near Harlec...|E01014399|Bath and North Ea...|Anti-social behav...|                 null|   null|\n",
            "+--------+-------+--------------------+--------------------+---------+---------+--------------------+---------+--------------------+--------------------+---------------------+-------+\n",
            "only showing top 5 rows\n",
            "\n"
          ],
          "name": "stdout"
        }
      ]
    },
    {
      "cell_type": "code",
      "metadata": {
        "id": "JkbMvgTw4G7M"
      },
      "source": [
        "df2 = df2.drop('Crime ID','Last outcome category','Context')"
      ],
      "execution_count": null,
      "outputs": []
    },
    {
      "cell_type": "code",
      "metadata": {
        "colab": {
          "base_uri": "https://localhost:8080/"
        },
        "id": "zqJaZ6l84Td4",
        "outputId": "2f0bd537-740c-427a-f6b1-75735de61e0a"
      },
      "source": [
        "df2.show(5)"
      ],
      "execution_count": null,
      "outputs": [
        {
          "output_type": "stream",
          "text": [
            "+-------+--------------------+--------------------+---------+---------+--------------------+---------+--------------------+--------------------+\n",
            "|  Month|         Reported by|        Falls within|Longitude| Latitude|            Location|LSOA code|           LSOA name|          Crime type|\n",
            "+-------+--------------------+--------------------+---------+---------+--------------------+---------+--------------------+--------------------+\n",
            "|2010-12|Avon and Somerset...|Avon and Somerset...|  -0.8056|51.819143|On or near Norfol...|E01017662| Aylesbury Vale 015C|         Other crime|\n",
            "|2010-12|Avon and Somerset...|Avon and Somerset...|-2.494366|51.418169|On or near Keynsh...|E01014399|Bath and North Ea...|Anti-social behav...|\n",
            "|2010-12|Avon and Somerset...|Avon and Somerset...|-2.511927|51.409435|On or near Harlec...|E01014399|Bath and North Ea...|Anti-social behav...|\n",
            "|2010-12|Avon and Somerset...|Avon and Somerset...|-2.511571|51.414895|On or near Orchar...|E01014399|Bath and North Ea...|Anti-social behav...|\n",
            "|2010-12|Avon and Somerset...|Avon and Somerset...|-2.511927|51.409435|On or near Harlec...|E01014399|Bath and North Ea...|Anti-social behav...|\n",
            "+-------+--------------------+--------------------+---------+---------+--------------------+---------+--------------------+--------------------+\n",
            "only showing top 5 rows\n",
            "\n"
          ],
          "name": "stdout"
        }
      ]
    },
    {
      "cell_type": "code",
      "metadata": {
        "colab": {
          "base_uri": "https://localhost:8080/"
        },
        "id": "Juookv0d4aO0",
        "outputId": "716f7f98-6b93-4fd3-9225-d6b926008416"
      },
      "source": [
        "print('Columns', df2.columns)\r\n",
        "print('Total number of columns', len(df2.columns))\r\n",
        "\r\n",
        "# Printing the details of the dataset (all_crimes)"
      ],
      "execution_count": null,
      "outputs": [
        {
          "output_type": "stream",
          "text": [
            "Columns ['Month', 'Reported by', 'Falls within', 'Longitude', 'Latitude', 'Location', 'LSOA code', 'LSOA name', 'Crime type']\n",
            "Total number of columns 9\n"
          ],
          "name": "stdout"
        }
      ]
    },
    {
      "cell_type": "code",
      "metadata": {
        "id": "8qP4TUO14pl9"
      },
      "source": [
        "LSOA = LSOA.drop('date','Rural Urban')"
      ],
      "execution_count": null,
      "outputs": []
    },
    {
      "cell_type": "code",
      "metadata": {
        "colab": {
          "base_uri": "https://localhost:8080/"
        },
        "id": "_ZOlDd_j4vrr",
        "outputId": "c917cfcd-e53b-4c35-eb63-a00975acc04c"
      },
      "source": [
        "LSOA.show(5)"
      ],
      "execution_count": null,
      "outputs": [
        {
          "output_type": "stream",
          "text": [
            "+---------------+--------------+----------------------------------------------+--------------------------------+----------------------------------+-----------------------------------------------+------------------------------------------------------------+----------------------------------------------------------------------------------------------------------+------------------------------------------+------------------------------------------------------------------+\n",
            "|      geography|geography code|Variable: All usual residents; measures: Value|Variable: Males; measures: Value|Variable: Females; measures: Value|Variable: Lives in a household; measures: Value|Variable: Lives in a communal establishment; measures: Value|Variable: Schoolchild or full-time student aged 4 and over at their non term-time address; measures: Value|Variable: Area (Hectares); measures: Value|Variable: Density (number of persons per hectare); measures: Value|\n",
            "+---------------+--------------+----------------------------------------------+--------------------------------+----------------------------------+-----------------------------------------------+------------------------------------------------------------+----------------------------------------------------------------------------------------------------------+------------------------------------------+------------------------------------------------------------------+\n",
            "|Darlington 001B|     E01012334|                                          2466|                            1220|                              1246|                                           2466|                                                           0|                                                                                                        42|                                   6033.58|                                                               0.4|\n",
            "|Darlington 001C|     E01012335|                                          1383|                             682|                               701|                                           1383|                                                           0|                                                                                                        21|                                    114.01|                                                              12.1|\n",
            "|Darlington 001D|     E01012366|                                          2008|                             972|                              1036|                                           2008|                                                           0|                                                                                                        30|                                   6718.16|                                                               0.3|\n",
            "|Darlington 001E|     E01033481|                                          1364|                             680|                               684|                                           1350|                                                          14|                                                                                                        21|                                    146.95|                                                               9.3|\n",
            "|Darlington 001F|     E01033482|                                          1621|                             810|                               811|                                           1621|                                                           0|                                                                                                        16|                                    234.31|                                                               6.9|\n",
            "+---------------+--------------+----------------------------------------------+--------------------------------+----------------------------------+-----------------------------------------------+------------------------------------------------------------+----------------------------------------------------------------------------------------------------------+------------------------------------------+------------------------------------------------------------------+\n",
            "only showing top 5 rows\n",
            "\n"
          ],
          "name": "stdout"
        }
      ]
    },
    {
      "cell_type": "code",
      "metadata": {
        "id": "48gpCww1411y"
      },
      "source": [
        "df2= df2.withColumnRenamed('LSOA code','geography code')"
      ],
      "execution_count": null,
      "outputs": []
    },
    {
      "cell_type": "code",
      "metadata": {
        "colab": {
          "base_uri": "https://localhost:8080/"
        },
        "id": "Ck32Og2Q4yt9",
        "outputId": "50dda79c-0737-4472-fe80-01e32083d433"
      },
      "source": [
        "print('Columns', LSOA.columns)\r\n",
        "print('Total number of columns', len(LSOA.columns))\r\n",
        "\r\n",
        "# Printing the details of the dataset (all_crimes)"
      ],
      "execution_count": null,
      "outputs": [
        {
          "output_type": "stream",
          "text": [
            "Columns ['geography', 'geography code', 'Variable: All usual residents; measures: Value', 'Variable: Males; measures: Value', 'Variable: Females; measures: Value', 'Variable: Lives in a household; measures: Value', 'Variable: Lives in a communal establishment; measures: Value', 'Variable: Schoolchild or full-time student aged 4 and over at their non term-time address; measures: Value', 'Variable: Area (Hectares); measures: Value', 'Variable: Density (number of persons per hectare); measures: Value']\n",
            "Total number of columns 10\n"
          ],
          "name": "stdout"
        }
      ]
    },
    {
      "cell_type": "code",
      "metadata": {
        "id": "q8t-qFx-5VrN"
      },
      "source": [
        "df2 = df2.join(LSOA, on=['geography code'], how='inner')"
      ],
      "execution_count": null,
      "outputs": []
    },
    {
      "cell_type": "code",
      "metadata": {
        "colab": {
          "base_uri": "https://localhost:8080/"
        },
        "id": "YbxF3ohf5aRQ",
        "outputId": "378d884e-0507-45b6-90e9-e5993a848086"
      },
      "source": [
        "df2.show(5)"
      ],
      "execution_count": null,
      "outputs": [
        {
          "output_type": "stream",
          "text": [
            "+--------------+-------+--------------------+--------------------+---------+---------+--------------------+--------------------+--------------------+--------------------+----------------------------------------------+--------------------------------+----------------------------------+-----------------------------------------------+------------------------------------------------------------+----------------------------------------------------------------------------------------------------------+------------------------------------------+------------------------------------------------------------------+\n",
            "|geography code|  Month|         Reported by|        Falls within|Longitude| Latitude|            Location|           LSOA name|          Crime type|           geography|Variable: All usual residents; measures: Value|Variable: Males; measures: Value|Variable: Females; measures: Value|Variable: Lives in a household; measures: Value|Variable: Lives in a communal establishment; measures: Value|Variable: Schoolchild or full-time student aged 4 and over at their non term-time address; measures: Value|Variable: Area (Hectares); measures: Value|Variable: Density (number of persons per hectare); measures: Value|\n",
            "+--------------+-------+--------------------+--------------------+---------+---------+--------------------+--------------------+--------------------+--------------------+----------------------------------------------+--------------------------------+----------------------------------+-----------------------------------------------+------------------------------------------------------------+----------------------------------------------------------------------------------------------------------+------------------------------------------+------------------------------------------------------------------+\n",
            "|     E01017662|2010-12|Avon and Somerset...|Avon and Somerset...|  -0.8056|51.819143|On or near Norfol...| Aylesbury Vale 015C|         Other crime| Aylesbury Vale 015C|                                          1308|                             631|                               677|                                           1296|                                                          12|                                                                                                        13|                                     29.95|                                                              43.7|\n",
            "|     E01014399|2010-12|Avon and Somerset...|Avon and Somerset...|-2.494366|51.418169|On or near Keynsh...|Bath and North Ea...|Anti-social behav...|Bath and North Ea...|                                          1624|                             789|                               835|                                           1624|                                                           0|                                                                                                        16|                                    412.44|                                                               3.9|\n",
            "|     E01014399|2010-12|Avon and Somerset...|Avon and Somerset...|-2.511927|51.409435|On or near Harlec...|Bath and North Ea...|Anti-social behav...|Bath and North Ea...|                                          1624|                             789|                               835|                                           1624|                                                           0|                                                                                                        16|                                    412.44|                                                               3.9|\n",
            "|     E01014399|2010-12|Avon and Somerset...|Avon and Somerset...|-2.511571|51.414895|On or near Orchar...|Bath and North Ea...|Anti-social behav...|Bath and North Ea...|                                          1624|                             789|                               835|                                           1624|                                                           0|                                                                                                        16|                                    412.44|                                                               3.9|\n",
            "|     E01014399|2010-12|Avon and Somerset...|Avon and Somerset...|-2.511927|51.409435|On or near Harlec...|Bath and North Ea...|Anti-social behav...|Bath and North Ea...|                                          1624|                             789|                               835|                                           1624|                                                           0|                                                                                                        16|                                    412.44|                                                               3.9|\n",
            "+--------------+-------+--------------------+--------------------+---------+---------+--------------------+--------------------+--------------------+--------------------+----------------------------------------------+--------------------------------+----------------------------------+-----------------------------------------------+------------------------------------------------------------+----------------------------------------------------------------------------------------------------------+------------------------------------------+------------------------------------------------------------------+\n",
            "only showing top 5 rows\n",
            "\n"
          ],
          "name": "stdout"
        }
      ]
    },
    {
      "cell_type": "code",
      "metadata": {
        "colab": {
          "base_uri": "https://localhost:8080/"
        },
        "id": "NQRcOQ2r5eFO",
        "outputId": "2f9a8b7d-353d-4368-ed8b-39e341a33824"
      },
      "source": [
        "print('Columns:',df2.columns)\r\n",
        "print('Total Number of columns:', len(df2.columns))"
      ],
      "execution_count": null,
      "outputs": [
        {
          "output_type": "stream",
          "text": [
            "Columns: ['geography code', 'Month', 'Reported by', 'Falls within', 'Longitude', 'Latitude', 'Location', 'LSOA name', 'Crime type', 'geography', 'Variable: All usual residents; measures: Value', 'Variable: Males; measures: Value', 'Variable: Females; measures: Value', 'Variable: Lives in a household; measures: Value', 'Variable: Lives in a communal establishment; measures: Value', 'Variable: Schoolchild or full-time student aged 4 and over at their non term-time address; measures: Value', 'Variable: Area (Hectares); measures: Value', 'Variable: Density (number of persons per hectare); measures: Value']\n",
            "Total Number of columns: 18\n"
          ],
          "name": "stdout"
        }
      ]
    },
    {
      "cell_type": "markdown",
      "metadata": {
        "id": "MuDD0zU_t_ZH"
      },
      "source": [
        "# **Selection, application, and reasoning behind use of statistical analysis and multiple evaluation measures**"
      ]
    },
    {
      "cell_type": "markdown",
      "metadata": {
        "id": "YuUbrFhEuAmB"
      },
      "source": [
        ""
      ]
    },
    {
      "cell_type": "markdown",
      "metadata": {
        "id": "35oj5p0O5h3r"
      },
      "source": [
        "# **1.Violent Crime is Increasing**"
      ]
    },
    {
      "cell_type": "code",
      "metadata": {
        "id": "9lCpIyTZ4-sH"
      },
      "source": [
        "\n",
        "from functools import reduce\n",
        "from pyspark.sql import DataFrame\n",
        "\n",
        "# Create a list of dataframes\n"
      ],
      "execution_count": null,
      "outputs": []
    },
    {
      "cell_type": "code",
      "metadata": {
        "colab": {
          "base_uri": "https://localhost:8080/"
        },
        "id": "AdGcNvoc5mZ5",
        "outputId": "dad0c6eb-61e7-4e99-9177-f2d5dc82e5e2"
      },
      "source": [
        "\r\n",
        "df2.show(5)"
      ],
      "execution_count": null,
      "outputs": [
        {
          "output_type": "stream",
          "text": [
            "+--------------+-------+--------------------+--------------------+---------+---------+--------------------+--------------------+--------------------+--------------------+----------------------------------------------+--------------------------------+----------------------------------+-----------------------------------------------+------------------------------------------------------------+----------------------------------------------------------------------------------------------------------+------------------------------------------+------------------------------------------------------------------+\n",
            "|geography code|  Month|         Reported by|        Falls within|Longitude| Latitude|            Location|           LSOA name|          Crime type|           geography|Variable: All usual residents; measures: Value|Variable: Males; measures: Value|Variable: Females; measures: Value|Variable: Lives in a household; measures: Value|Variable: Lives in a communal establishment; measures: Value|Variable: Schoolchild or full-time student aged 4 and over at their non term-time address; measures: Value|Variable: Area (Hectares); measures: Value|Variable: Density (number of persons per hectare); measures: Value|\n",
            "+--------------+-------+--------------------+--------------------+---------+---------+--------------------+--------------------+--------------------+--------------------+----------------------------------------------+--------------------------------+----------------------------------+-----------------------------------------------+------------------------------------------------------------+----------------------------------------------------------------------------------------------------------+------------------------------------------+------------------------------------------------------------------+\n",
            "|     E01017662|2010-12|Avon and Somerset...|Avon and Somerset...|  -0.8056|51.819143|On or near Norfol...| Aylesbury Vale 015C|         Other crime| Aylesbury Vale 015C|                                          1308|                             631|                               677|                                           1296|                                                          12|                                                                                                        13|                                     29.95|                                                              43.7|\n",
            "|     E01014399|2010-12|Avon and Somerset...|Avon and Somerset...|-2.494366|51.418169|On or near Keynsh...|Bath and North Ea...|Anti-social behav...|Bath and North Ea...|                                          1624|                             789|                               835|                                           1624|                                                           0|                                                                                                        16|                                    412.44|                                                               3.9|\n",
            "|     E01014399|2010-12|Avon and Somerset...|Avon and Somerset...|-2.511927|51.409435|On or near Harlec...|Bath and North Ea...|Anti-social behav...|Bath and North Ea...|                                          1624|                             789|                               835|                                           1624|                                                           0|                                                                                                        16|                                    412.44|                                                               3.9|\n",
            "|     E01014399|2010-12|Avon and Somerset...|Avon and Somerset...|-2.511571|51.414895|On or near Orchar...|Bath and North Ea...|Anti-social behav...|Bath and North Ea...|                                          1624|                             789|                               835|                                           1624|                                                           0|                                                                                                        16|                                    412.44|                                                               3.9|\n",
            "|     E01014399|2010-12|Avon and Somerset...|Avon and Somerset...|-2.511927|51.409435|On or near Harlec...|Bath and North Ea...|Anti-social behav...|Bath and North Ea...|                                          1624|                             789|                               835|                                           1624|                                                           0|                                                                                                        16|                                    412.44|                                                               3.9|\n",
            "+--------------+-------+--------------------+--------------------+---------+---------+--------------------+--------------------+--------------------+--------------------+----------------------------------------------+--------------------------------+----------------------------------+-----------------------------------------------+------------------------------------------------------------+----------------------------------------------------------------------------------------------------------+------------------------------------------+------------------------------------------------------------------+\n",
            "only showing top 5 rows\n",
            "\n"
          ],
          "name": "stdout"
        }
      ]
    },
    {
      "cell_type": "code",
      "metadata": {
        "colab": {
          "base_uri": "https://localhost:8080/"
        },
        "id": "L_jOPTTohf7z",
        "outputId": "57986c9c-2bbf-478f-af46-5557fc77d128"
      },
      "source": [
        "df2.select('Crime type').groupBy('Crime type').count().show()"
      ],
      "execution_count": null,
      "outputs": [
        {
          "output_type": "stream",
          "text": [
            "+--------------------+--------+\n",
            "|          Crime type|   count|\n",
            "+--------------------+--------+\n",
            "|       Bicycle theft|  487065|\n",
            "|        Public order| 1276371|\n",
            "|               Drugs| 1099299|\n",
            "|Public disorder a...|  234395|\n",
            "|         Other crime| 2225706|\n",
            "|             Robbery|  475336|\n",
            "|Criminal damage a...| 3691036|\n",
            "|Theft from the pe...|  461544|\n",
            "|         Shoplifting| 2288563|\n",
            "|            Burglary| 3316715|\n",
            "|       Violent crime| 1605429|\n",
            "|         Other theft| 3790366|\n",
            "|Possession of wea...|  150450|\n",
            "|Violence and sexu...| 5802735|\n",
            "|       Vehicle crime| 2973060|\n",
            "|Anti-social behav...|15391389|\n",
            "+--------------------+--------+\n",
            "\n"
          ],
          "name": "stdout"
        }
      ]
    },
    {
      "cell_type": "code",
      "metadata": {
        "id": "ehPri9QHhDI1"
      },
      "source": [
        "\r\n",
        "\r\n"
      ],
      "execution_count": null,
      "outputs": []
    },
    {
      "cell_type": "code",
      "metadata": {
        "colab": {
          "base_uri": "https://localhost:8080/"
        },
        "id": "ZGumwGzn9_7y",
        "outputId": "a357ec67-8cb2-4d4f-aada-85f92cd4eda1"
      },
      "source": [
        "df2.select('Crime type').groupBy('Crime type').count().orderBy('count',ascending=False).show()"
      ],
      "execution_count": null,
      "outputs": [
        {
          "output_type": "stream",
          "text": [
            "+--------------------+--------+\n",
            "|          Crime type|   count|\n",
            "+--------------------+--------+\n",
            "|Anti-social behav...|15391389|\n",
            "|Violence and sexu...| 5802735|\n",
            "|         Other theft| 3790366|\n",
            "|Criminal damage a...| 3691036|\n",
            "|            Burglary| 3316715|\n",
            "|       Vehicle crime| 2973060|\n",
            "|         Shoplifting| 2288563|\n",
            "|         Other crime| 2225706|\n",
            "|       Violent crime| 1605429|\n",
            "|        Public order| 1276371|\n",
            "|               Drugs| 1099299|\n",
            "|       Bicycle theft|  487065|\n",
            "|             Robbery|  475336|\n",
            "|Theft from the pe...|  461544|\n",
            "|Public disorder a...|  234395|\n",
            "|Possession of wea...|  150450|\n",
            "+--------------------+--------+\n",
            "\n"
          ],
          "name": "stdout"
        }
      ]
    },
    {
      "cell_type": "code",
      "metadata": {
        "id": "0Zz_55PVAHFN"
      },
      "source": [
        ""
      ],
      "execution_count": null,
      "outputs": []
    },
    {
      "cell_type": "code",
      "metadata": {
        "id": "CK24tYET_YFf"
      },
      "source": [
        "violent=df2.filter(df2['Crime type'] == \"Violent crime\")"
      ],
      "execution_count": null,
      "outputs": []
    },
    {
      "cell_type": "markdown",
      "metadata": {
        "id": "z7nEKTpy15gQ"
      },
      "source": [
        ""
      ]
    },
    {
      "cell_type": "code",
      "metadata": {
        "colab": {
          "base_uri": "https://localhost:8080/"
        },
        "id": "7H9cQRCIBTBd",
        "outputId": "f529e096-79dc-4000-dd46-a82834fb5851"
      },
      "source": [
        "violent.show(truncate=False)"
      ],
      "execution_count": null,
      "outputs": [
        {
          "output_type": "stream",
          "text": [
            "+--------------+-------+------------------------------+------------------------------+---------+---------+---------------------------------+---------------------------------+-------------+---------------------------------+----------------------------------------------+--------------------------------+----------------------------------+-----------------------------------------------+------------------------------------------------------------+----------------------------------------------------------------------------------------------------------+------------------------------------------+------------------------------------------------------------------+\n",
            "|geography code|Month  |Reported by                   |Falls within                  |Longitude|Latitude |Location                         |LSOA name                        |Crime type   |geography                        |Variable: All usual residents; measures: Value|Variable: Males; measures: Value|Variable: Females; measures: Value|Variable: Lives in a household; measures: Value|Variable: Lives in a communal establishment; measures: Value|Variable: Schoolchild or full-time student aged 4 and over at their non term-time address; measures: Value|Variable: Area (Hectares); measures: Value|Variable: Density (number of persons per hectare); measures: Value|\n",
            "+--------------+-------+------------------------------+------------------------------+---------+---------+---------------------------------+---------------------------------+-------------+---------------------------------+----------------------------------------------+--------------------------------+----------------------------------+-----------------------------------------------+------------------------------------------------------------+----------------------------------------------------------------------------------------------------------+------------------------------------------+------------------------------------------------------------------+\n",
            "|E01014402     |2010-12|Avon and Somerset Constabulary|Avon and Somerset Constabulary|-2.509773|51.405767|On or near Cedar Drive           |Bath and North East Somerset 002A|Violent crime|Bath and North East Somerset 002A|1684                                          |804                             |880                               |1684                                           |0                                                           |4                                                                                                         |92.49                                     |18.2                                                              |\n",
            "|E01014403     |2010-12|Avon and Somerset Constabulary|Avon and Somerset Constabulary|-2.497371|51.412906|On or near Temple Street         |Bath and North East Somerset 002B|Violent crime|Bath and North East Somerset 002B|1671                                          |749                             |922                               |1620                                           |51                                                          |13                                                                                                        |35.61                                     |46.9                                                              |\n",
            "|E01014403     |2010-12|Avon and Somerset Constabulary|Avon and Somerset Constabulary|-2.50326 |51.410965|On or near Courtlands            |Bath and North East Somerset 002B|Violent crime|Bath and North East Somerset 002B|1671                                          |749                             |922                               |1620                                           |51                                                          |13                                                                                                        |35.61                                     |46.9                                                              |\n",
            "|E01014404     |2010-12|Avon and Somerset Constabulary|Avon and Somerset Constabulary|-2.498987|51.406757|On or near Tamworth Road         |Bath and North East Somerset 002C|Violent crime|Bath and North East Somerset 002C|1669                                          |769                             |900                               |1668                                           |1                                                           |14                                                                                                        |71.26                                     |23.4                                                              |\n",
            "|E01014396     |2010-12|Avon and Somerset Constabulary|Avon and Somerset Constabulary|-2.483216|51.416346|On or near Broadmead Lane        |Bath and North East Somerset 003B|Violent crime|Bath and North East Somerset 003B|1434                                          |669                             |765                               |1401                                           |33                                                          |11                                                                                                        |156.62                                    |9.2                                                               |\n",
            "|E01014396     |2010-12|Avon and Somerset Constabulary|Avon and Somerset Constabulary|-2.483216|51.416346|On or near Broadmead Lane        |Bath and North East Somerset 003B|Violent crime|Bath and North East Somerset 003B|1434                                          |669                             |765                               |1401                                           |33                                                          |11                                                                                                        |156.62                                    |9.2                                                               |\n",
            "|E01014396     |2010-12|Avon and Somerset Constabulary|Avon and Somerset Constabulary|-2.483216|51.416346|On or near Broadmead Lane        |Bath and North East Somerset 003B|Violent crime|Bath and North East Somerset 003B|1434                                          |669                             |765                               |1401                                           |33                                                          |11                                                                                                        |156.62                                    |9.2                                                               |\n",
            "|E01014398     |2010-12|Avon and Somerset Constabulary|Avon and Somerset Constabulary|-2.475536|51.412124|On or near Pixash Lane           |Bath and North East Somerset 003D|Violent crime|Bath and North East Somerset 003D|1423                                          |708                             |715                               |1423                                           |0                                                           |27                                                                                                        |136.66                                    |10.4                                                              |\n",
            "|E01014409     |2010-12|Avon and Somerset Constabulary|Avon and Somerset Constabulary|-2.345114|51.401467|On or near Rose Hill             |Bath and North East Somerset 004A|Violent crime|Bath and North East Somerset 004A|1590                                          |738                             |852                               |1559                                           |31                                                          |21                                                                                                        |31.88                                     |49.9                                                              |\n",
            "|E01014409     |2010-12|Avon and Somerset Constabulary|Avon and Somerset Constabulary|-2.345526|51.398948|On or near Daffords Buildings    |Bath and North East Somerset 004A|Violent crime|Bath and North East Somerset 004A|1590                                          |738                             |852                               |1559                                           |31                                                          |21                                                                                                        |31.88                                     |49.9                                                              |\n",
            "|E01014411     |2010-12|Avon and Somerset Constabulary|Avon and Somerset Constabulary|-2.345196|51.395263|On or near Beaufort East         |Bath and North East Somerset 004C|Violent crime|Bath and North East Somerset 004C|2109                                          |1025                            |1084                              |2084                                           |25                                                          |40                                                                                                        |92.78                                     |22.7                                                              |\n",
            "|E01014411     |2010-12|Avon and Somerset Constabulary|Avon and Somerset Constabulary|-2.344593|51.397144|On or near Upper Lambridge Street|Bath and North East Somerset 004C|Violent crime|Bath and North East Somerset 004C|2109                                          |1025                            |1084                              |2084                                           |25                                                          |40                                                                                                        |92.78                                     |22.7                                                              |\n",
            "|E01014411     |2010-12|Avon and Somerset Constabulary|Avon and Somerset Constabulary|-2.336398|51.400818|On or near Eveleigh Avenue       |Bath and North East Somerset 004C|Violent crime|Bath and North East Somerset 004C|2109                                          |1025                            |1084                              |2084                                           |25                                                          |40                                                                                                        |92.78                                     |22.7                                                              |\n",
            "|E01014477     |2010-12|Avon and Somerset Constabulary|Avon and Somerset Constabulary|-2.39648 |51.401898|On or near Haviland Grove        |Bath and North East Somerset 005A|Violent crime|Bath and North East Somerset 005A|1454                                          |691                             |763                               |1454                                           |0                                                           |21                                                                                                        |46.64                                     |31.2                                                              |\n",
            "|E01014477     |2010-12|Avon and Somerset Constabulary|Avon and Somerset Constabulary|-2.399473|51.405476|On or near Napier Road           |Bath and North East Somerset 005A|Violent crime|Bath and North East Somerset 005A|1454                                          |691                             |763                               |1454                                           |0                                                           |21                                                                                                        |46.64                                     |31.2                                                              |\n",
            "|E01014477     |2010-12|Avon and Somerset Constabulary|Avon and Somerset Constabulary|-2.399473|51.405476|On or near Napier Road           |Bath and North East Somerset 005A|Violent crime|Bath and North East Somerset 005A|1454                                          |691                             |763                               |1454                                           |0                                                           |21                                                                                                        |46.64                                     |31.2                                                              |\n",
            "|E01014477     |2010-12|Avon and Somerset Constabulary|Avon and Somerset Constabulary|-2.399473|51.405476|On or near Napier Road           |Bath and North East Somerset 005A|Violent crime|Bath and North East Somerset 005A|1454                                          |691                             |763                               |1454                                           |0                                                           |21                                                                                                        |46.64                                     |31.2                                                              |\n",
            "|E01014465     |2010-12|Avon and Somerset Constabulary|Avon and Somerset Constabulary|-2.353375|51.397109|On or near Midsummer Buildings   |Bath and North East Somerset 006A|Violent crime|Bath and North East Somerset 006A|1517                                          |722                             |795                               |1502                                           |15                                                          |16                                                                                                        |17.89                                     |84.8                                                              |\n",
            "|E01014465     |2010-12|Avon and Somerset Constabulary|Avon and Somerset Constabulary|-2.353375|51.397109|On or near Midsummer Buildings   |Bath and North East Somerset 006A|Violent crime|Bath and North East Somerset 006A|1517                                          |722                             |795                               |1502                                           |15                                                          |16                                                                                                        |17.89                                     |84.8                                                              |\n",
            "|E01014466     |2010-12|Avon and Somerset Constabulary|Avon and Somerset Constabulary|-2.357276|51.390542|On or near Pera Road             |Bath and North East Somerset 006B|Violent crime|Bath and North East Somerset 006B|1263                                          |653                             |610                               |1262                                           |1                                                           |14                                                                                                        |13.03                                     |96.9                                                              |\n",
            "+--------------+-------+------------------------------+------------------------------+---------+---------+---------------------------------+---------------------------------+-------------+---------------------------------+----------------------------------------------+--------------------------------+----------------------------------+-----------------------------------------------+------------------------------------------------------------+----------------------------------------------------------------------------------------------------------+------------------------------------------+------------------------------------------------------------------+\n",
            "only showing top 20 rows\n",
            "\n"
          ],
          "name": "stdout"
        }
      ]
    },
    {
      "cell_type": "code",
      "metadata": {
        "id": "j4_jaHVWDIaO"
      },
      "source": [
        "v=violent.select('Month','Crime type').groupby('Month','Crime type').count().orderBy('count', ascending=False)"
      ],
      "execution_count": null,
      "outputs": []
    },
    {
      "cell_type": "code",
      "metadata": {
        "id": "RqiZjC91DhWu"
      },
      "source": [
        "violent1 = v.select('Month', 'Crime type','count')"
      ],
      "execution_count": null,
      "outputs": []
    },
    {
      "cell_type": "code",
      "metadata": {
        "id": "waA2-F7OGHAX"
      },
      "source": [
        "def barplot(df, col, lim=10, yname=None):\r\n",
        "    \r\n",
        "    '''\r\n",
        "    This function makes a bar plot for the Spark dataframe df \r\n",
        "    for categorical column col only selecting top categories \r\n",
        "    as specified by lim. \r\n",
        "    '''\r\n",
        "    \r\n",
        "    # Grouping by the categories, counting on each categories \r\n",
        "    # and ordering them by the count\r\n",
        "    classes = df.groupBy(col).count().orderBy('count', ascending=False)\r\n",
        "    \r\n",
        "    # Take first 'lim' number of rows and convert to pandas  \r\n",
        "    pd_df = classes.limit(lim).toPandas()\r\n",
        "    \r\n",
        "    # Making plot \r\n",
        "    pd_df.plot(kind='bar', x=col, legend=False)\r\n",
        "    plt.ylabel(yname)\r\n",
        "    plt.show()"
      ],
      "execution_count": null,
      "outputs": []
    },
    {
      "cell_type": "code",
      "metadata": {
        "id": "LXXnAvwYHSHM"
      },
      "source": [
        ""
      ],
      "execution_count": null,
      "outputs": []
    },
    {
      "cell_type": "code",
      "metadata": {
        "colab": {
          "base_uri": "https://localhost:8080/"
        },
        "id": "erfdFrvEGqEH",
        "outputId": "7870ddfc-7c85-46d3-877f-8a17b45f18f2"
      },
      "source": [
        "violent.select('Month','Crime type').groupby('Month','Crime type').count().orderBy('count', ascending=False).show()"
      ],
      "execution_count": null,
      "outputs": [
        {
          "output_type": "stream",
          "text": [
            "+-------+-------------+-----+\n",
            "|  Month|   Crime type|count|\n",
            "+-------+-------------+-----+\n",
            "|2011-07|Violent crime|66301|\n",
            "|2011-04|Violent crime|64060|\n",
            "|2011-05|Violent crime|63409|\n",
            "|2011-08|Violent crime|63058|\n",
            "|2011-03|Violent crime|62264|\n",
            "|2011-06|Violent crime|62243|\n",
            "|2011-01|Violent crime|59776|\n",
            "|2010-12|Violent crime|57517|\n",
            "|2011-10|Violent crime|57159|\n",
            "|2011-02|Violent crime|56624|\n",
            "|2012-07|Violent crime|56332|\n",
            "|2012-05|Violent crime|56242|\n",
            "|2012-08|Violent crime|55449|\n",
            "|2012-03|Violent crime|55292|\n",
            "|2011-09|Violent crime|54254|\n",
            "|2011-11|Violent crime|53623|\n",
            "|2012-06|Violent crime|53555|\n",
            "|2012-10|Violent crime|53311|\n",
            "|2012-01|Violent crime|53078|\n",
            "|2011-12|Violent crime|52959|\n",
            "+-------+-------------+-----+\n",
            "only showing top 20 rows\n",
            "\n"
          ],
          "name": "stdout"
        }
      ]
    },
    {
      "cell_type": "code",
      "metadata": {
        "colab": {
          "base_uri": "https://localhost:8080/"
        },
        "id": "nP-5TLPULU4v",
        "outputId": "4a79c49b-6b4f-48a5-a62c-64b607484b04"
      },
      "source": [
        "from pyspark.sql.functions import year\r\n",
        "\r\n",
        "from pyspark.sql.functions import to_date\r\n",
        "\r\n",
        " \r\n",
        "\r\n",
        "df1 = violent.withColumn('Month',year(violent.Month))\r\n",
        "\r\n",
        "df1.show()\r\n"
      ],
      "execution_count": null,
      "outputs": [
        {
          "output_type": "stream",
          "text": [
            "+--------------+-----+--------------------+--------------------+---------+---------+--------------------+--------------------+-------------+--------------------+----------------------------------------------+--------------------------------+----------------------------------+-----------------------------------------------+------------------------------------------------------------+----------------------------------------------------------------------------------------------------------+------------------------------------------+------------------------------------------------------------------+\n",
            "|geography code|Month|         Reported by|        Falls within|Longitude| Latitude|            Location|           LSOA name|   Crime type|           geography|Variable: All usual residents; measures: Value|Variable: Males; measures: Value|Variable: Females; measures: Value|Variable: Lives in a household; measures: Value|Variable: Lives in a communal establishment; measures: Value|Variable: Schoolchild or full-time student aged 4 and over at their non term-time address; measures: Value|Variable: Area (Hectares); measures: Value|Variable: Density (number of persons per hectare); measures: Value|\n",
            "+--------------+-----+--------------------+--------------------+---------+---------+--------------------+--------------------+-------------+--------------------+----------------------------------------------+--------------------------------+----------------------------------+-----------------------------------------------+------------------------------------------------------------+----------------------------------------------------------------------------------------------------------+------------------------------------------+------------------------------------------------------------------+\n",
            "|     E01014402| 2010|Avon and Somerset...|Avon and Somerset...|-2.509773|51.405767|On or near Cedar ...|Bath and North Ea...|Violent crime|Bath and North Ea...|                                          1684|                             804|                               880|                                           1684|                                                           0|                                                                                                         4|                                     92.49|                                                              18.2|\n",
            "|     E01014403| 2010|Avon and Somerset...|Avon and Somerset...|-2.497371|51.412906|On or near Temple...|Bath and North Ea...|Violent crime|Bath and North Ea...|                                          1671|                             749|                               922|                                           1620|                                                          51|                                                                                                        13|                                     35.61|                                                              46.9|\n",
            "|     E01014403| 2010|Avon and Somerset...|Avon and Somerset...| -2.50326|51.410965|On or near Courtl...|Bath and North Ea...|Violent crime|Bath and North Ea...|                                          1671|                             749|                               922|                                           1620|                                                          51|                                                                                                        13|                                     35.61|                                                              46.9|\n",
            "|     E01014404| 2010|Avon and Somerset...|Avon and Somerset...|-2.498987|51.406757|On or near Tamwor...|Bath and North Ea...|Violent crime|Bath and North Ea...|                                          1669|                             769|                               900|                                           1668|                                                           1|                                                                                                        14|                                     71.26|                                                              23.4|\n",
            "|     E01014396| 2010|Avon and Somerset...|Avon and Somerset...|-2.483216|51.416346|On or near Broadm...|Bath and North Ea...|Violent crime|Bath and North Ea...|                                          1434|                             669|                               765|                                           1401|                                                          33|                                                                                                        11|                                    156.62|                                                               9.2|\n",
            "|     E01014396| 2010|Avon and Somerset...|Avon and Somerset...|-2.483216|51.416346|On or near Broadm...|Bath and North Ea...|Violent crime|Bath and North Ea...|                                          1434|                             669|                               765|                                           1401|                                                          33|                                                                                                        11|                                    156.62|                                                               9.2|\n",
            "|     E01014396| 2010|Avon and Somerset...|Avon and Somerset...|-2.483216|51.416346|On or near Broadm...|Bath and North Ea...|Violent crime|Bath and North Ea...|                                          1434|                             669|                               765|                                           1401|                                                          33|                                                                                                        11|                                    156.62|                                                               9.2|\n",
            "|     E01014398| 2010|Avon and Somerset...|Avon and Somerset...|-2.475536|51.412124|On or near Pixash...|Bath and North Ea...|Violent crime|Bath and North Ea...|                                          1423|                             708|                               715|                                           1423|                                                           0|                                                                                                        27|                                    136.66|                                                              10.4|\n",
            "|     E01014409| 2010|Avon and Somerset...|Avon and Somerset...|-2.345114|51.401467|On or near Rose Hill|Bath and North Ea...|Violent crime|Bath and North Ea...|                                          1590|                             738|                               852|                                           1559|                                                          31|                                                                                                        21|                                     31.88|                                                              49.9|\n",
            "|     E01014409| 2010|Avon and Somerset...|Avon and Somerset...|-2.345526|51.398948|On or near Daffor...|Bath and North Ea...|Violent crime|Bath and North Ea...|                                          1590|                             738|                               852|                                           1559|                                                          31|                                                                                                        21|                                     31.88|                                                              49.9|\n",
            "|     E01014411| 2010|Avon and Somerset...|Avon and Somerset...|-2.345196|51.395263|On or near Beaufo...|Bath and North Ea...|Violent crime|Bath and North Ea...|                                          2109|                            1025|                              1084|                                           2084|                                                          25|                                                                                                        40|                                     92.78|                                                              22.7|\n",
            "|     E01014411| 2010|Avon and Somerset...|Avon and Somerset...|-2.344593|51.397144|On or near Upper ...|Bath and North Ea...|Violent crime|Bath and North Ea...|                                          2109|                            1025|                              1084|                                           2084|                                                          25|                                                                                                        40|                                     92.78|                                                              22.7|\n",
            "|     E01014411| 2010|Avon and Somerset...|Avon and Somerset...|-2.336398|51.400818|On or near Evelei...|Bath and North Ea...|Violent crime|Bath and North Ea...|                                          2109|                            1025|                              1084|                                           2084|                                                          25|                                                                                                        40|                                     92.78|                                                              22.7|\n",
            "|     E01014477| 2010|Avon and Somerset...|Avon and Somerset...| -2.39648|51.401898|On or near Havila...|Bath and North Ea...|Violent crime|Bath and North Ea...|                                          1454|                             691|                               763|                                           1454|                                                           0|                                                                                                        21|                                     46.64|                                                              31.2|\n",
            "|     E01014477| 2010|Avon and Somerset...|Avon and Somerset...|-2.399473|51.405476|On or near Napier...|Bath and North Ea...|Violent crime|Bath and North Ea...|                                          1454|                             691|                               763|                                           1454|                                                           0|                                                                                                        21|                                     46.64|                                                              31.2|\n",
            "|     E01014477| 2010|Avon and Somerset...|Avon and Somerset...|-2.399473|51.405476|On or near Napier...|Bath and North Ea...|Violent crime|Bath and North Ea...|                                          1454|                             691|                               763|                                           1454|                                                           0|                                                                                                        21|                                     46.64|                                                              31.2|\n",
            "|     E01014477| 2010|Avon and Somerset...|Avon and Somerset...|-2.399473|51.405476|On or near Napier...|Bath and North Ea...|Violent crime|Bath and North Ea...|                                          1454|                             691|                               763|                                           1454|                                                           0|                                                                                                        21|                                     46.64|                                                              31.2|\n",
            "|     E01014465| 2010|Avon and Somerset...|Avon and Somerset...|-2.353375|51.397109|On or near Midsum...|Bath and North Ea...|Violent crime|Bath and North Ea...|                                          1517|                             722|                               795|                                           1502|                                                          15|                                                                                                        16|                                     17.89|                                                              84.8|\n",
            "|     E01014465| 2010|Avon and Somerset...|Avon and Somerset...|-2.353375|51.397109|On or near Midsum...|Bath and North Ea...|Violent crime|Bath and North Ea...|                                          1517|                             722|                               795|                                           1502|                                                          15|                                                                                                        16|                                     17.89|                                                              84.8|\n",
            "|     E01014466| 2010|Avon and Somerset...|Avon and Somerset...|-2.357276|51.390542|On or near Pera Road|Bath and North Ea...|Violent crime|Bath and North Ea...|                                          1263|                             653|                               610|                                           1262|                                                           1|                                                                                                        14|                                     13.03|                                                              96.9|\n",
            "+--------------+-----+--------------------+--------------------+---------+---------+--------------------+--------------------+-------------+--------------------+----------------------------------------------+--------------------------------+----------------------------------+-----------------------------------------------+------------------------------------------------------------+----------------------------------------------------------------------------------------------------------+------------------------------------------+------------------------------------------------------------------+\n",
            "only showing top 20 rows\n",
            "\n"
          ],
          "name": "stdout"
        }
      ]
    },
    {
      "cell_type": "code",
      "metadata": {
        "id": "622VQYz-Q0u5"
      },
      "source": [
        ""
      ],
      "execution_count": null,
      "outputs": []
    },
    {
      "cell_type": "code",
      "metadata": {
        "id": "OfmTLCy8PBIK"
      },
      "source": [
        "import matplotlib.pyplot as plt\r\n",
        "def barplot(df, col, lim=10, yname=None):\r\n",
        "    \r\n",
        "    '''\r\n",
        "    This function makes a bar plot for the Spark dataframe df \r\n",
        "    for categorical column col only selecting top categories \r\n",
        "    as specified by lim. \r\n",
        "    '''\r\n",
        "    \r\n",
        "    # Grouping by the categories, counting on each categories \r\n",
        "    # and ordering them by the count\r\n",
        "    classes = df.groupBy(col).count().orderBy('count', ascending=False)\r\n",
        "    \r\n",
        "    # Take first 'lim' number of rows and convert to pandas  \r\n",
        "    pd_df = classes.limit(lim).toPandas()\r\n",
        "    \r\n",
        "    # Making plot \r\n",
        "    pd_df.plot(kind='bar', x=col, legend=False)\r\n",
        "    plt.ylabel(yname)\r\n",
        "    plt.show()"
      ],
      "execution_count": null,
      "outputs": []
    },
    {
      "cell_type": "code",
      "metadata": {
        "colab": {
          "base_uri": "https://localhost:8080/"
        },
        "id": "Lo50urblRC4t",
        "outputId": "077f28ba-9f53-451d-d801-99f972ba3d5c"
      },
      "source": [
        "df1.select('Month').groupBy('Month').count().orderBy('count', ascending=False).show()"
      ],
      "execution_count": null,
      "outputs": [
        {
          "output_type": "stream",
          "text": [
            "+-----+------+\n",
            "|Month| count|\n",
            "+-----+------+\n",
            "| 2011|715730|\n",
            "| 2012|635977|\n",
            "| 2013|196205|\n",
            "| 2010| 57517|\n",
            "+-----+------+\n",
            "\n"
          ],
          "name": "stdout"
        }
      ]
    },
    {
      "cell_type": "code",
      "metadata": {
        "colab": {
          "base_uri": "https://localhost:8080/",
          "height": 295
        },
        "id": "SaJHSk_OPYcH",
        "outputId": "99b45a76-2588-49d6-9f14-368393443454"
      },
      "source": [
        "barplot(df1, 'Month', yname='count for violent crime')"
      ],
      "execution_count": null,
      "outputs": [
        {
          "output_type": "display_data",
          "data": {
            "image/png": "[encoded data removed]",
            "text/plain": [
              "<Figure size 432x288 with 1 Axes>"
            ]
          },
          "metadata": {
            "tags": [],
            "needs_background": "light"
          }
        }
      ]
    },
    {
      "cell_type": "markdown",
      "metadata": {
        "id": "O3Jo-mt2S-CW"
      },
      "source": [
        "###Violent crime is increasing from 2010 to 2011 ,then reduced after 2011 .In 2010, overall count for violent crime was 57517,in 2011 it increased to 715730, But in 2012 it got reduced to 635977. In 2013, again reduced to 196205.\r\n",
        "### As per the dataset, violent crime is decreasing. so Iam not agree with Ross kemp's  first claim and it seems wrong."
      ]
    },
    {
      "cell_type": "markdown",
      "metadata": {
        "id": "ELPT79EUUJ5T"
      },
      "source": [
        "#**2.\tThere are more firearms incidents per head in Birmingham than anywhere else in the UK**"
      ]
    },
    {
      "cell_type": "code",
      "metadata": {
        "id": "pRXzkwsLzzMP"
      },
      "source": [
        "f1=df2.filter((df2['Crime type'] == \"Violent crime\"))"
      ],
      "execution_count": null,
      "outputs": []
    },
    {
      "cell_type": "code",
      "metadata": {
        "colab": {
          "base_uri": "https://localhost:8080/"
        },
        "id": "xakwJOlH-Bdu",
        "outputId": "f217c695-1b5f-4333-a590-0cd54cc4755b"
      },
      "source": [
        "f1.show(truncate=False)"
      ],
      "execution_count": null,
      "outputs": [
        {
          "output_type": "stream",
          "text": [
            "+--------------+-------+------------------------------+------------------------------+---------+---------+---------------------------------+---------------------------------+-------------+---------------------------------+----------------------------------------------+--------------------------------+----------------------------------+-----------------------------------------------+------------------------------------------------------------+----------------------------------------------------------------------------------------------------------+------------------------------------------+------------------------------------------------------------------+\n",
            "|geography code|Month  |Reported by                   |Falls within                  |Longitude|Latitude |Location                         |LSOA name                        |Crime type   |geography                        |Variable: All usual residents; measures: Value|Variable: Males; measures: Value|Variable: Females; measures: Value|Variable: Lives in a household; measures: Value|Variable: Lives in a communal establishment; measures: Value|Variable: Schoolchild or full-time student aged 4 and over at their non term-time address; measures: Value|Variable: Area (Hectares); measures: Value|Variable: Density (number of persons per hectare); measures: Value|\n",
            "+--------------+-------+------------------------------+------------------------------+---------+---------+---------------------------------+---------------------------------+-------------+---------------------------------+----------------------------------------------+--------------------------------+----------------------------------+-----------------------------------------------+------------------------------------------------------------+----------------------------------------------------------------------------------------------------------+------------------------------------------+------------------------------------------------------------------+\n",
            "|E01014402     |2010-12|Avon and Somerset Constabulary|Avon and Somerset Constabulary|-2.509773|51.405767|On or near Cedar Drive           |Bath and North East Somerset 002A|Violent crime|Bath and North East Somerset 002A|1684                                          |804                             |880                               |1684                                           |0                                                           |4                                                                                                         |92.49                                     |18.2                                                              |\n",
            "|E01014403     |2010-12|Avon and Somerset Constabulary|Avon and Somerset Constabulary|-2.497371|51.412906|On or near Temple Street         |Bath and North East Somerset 002B|Violent crime|Bath and North East Somerset 002B|1671                                          |749                             |922                               |1620                                           |51                                                          |13                                                                                                        |35.61                                     |46.9                                                              |\n",
            "|E01014403     |2010-12|Avon and Somerset Constabulary|Avon and Somerset Constabulary|-2.50326 |51.410965|On or near Courtlands            |Bath and North East Somerset 002B|Violent crime|Bath and North East Somerset 002B|1671                                          |749                             |922                               |1620                                           |51                                                          |13                                                                                                        |35.61                                     |46.9                                                              |\n",
            "|E01014404     |2010-12|Avon and Somerset Constabulary|Avon and Somerset Constabulary|-2.498987|51.406757|On or near Tamworth Road         |Bath and North East Somerset 002C|Violent crime|Bath and North East Somerset 002C|1669                                          |769                             |900                               |1668                                           |1                                                           |14                                                                                                        |71.26                                     |23.4                                                              |\n",
            "|E01014396     |2010-12|Avon and Somerset Constabulary|Avon and Somerset Constabulary|-2.483216|51.416346|On or near Broadmead Lane        |Bath and North East Somerset 003B|Violent crime|Bath and North East Somerset 003B|1434                                          |669                             |765                               |1401                                           |33                                                          |11                                                                                                        |156.62                                    |9.2                                                               |\n",
            "|E01014396     |2010-12|Avon and Somerset Constabulary|Avon and Somerset Constabulary|-2.483216|51.416346|On or near Broadmead Lane        |Bath and North East Somerset 003B|Violent crime|Bath and North East Somerset 003B|1434                                          |669                             |765                               |1401                                           |33                                                          |11                                                                                                        |156.62                                    |9.2                                                               |\n",
            "|E01014396     |2010-12|Avon and Somerset Constabulary|Avon and Somerset Constabulary|-2.483216|51.416346|On or near Broadmead Lane        |Bath and North East Somerset 003B|Violent crime|Bath and North East Somerset 003B|1434                                          |669                             |765                               |1401                                           |33                                                          |11                                                                                                        |156.62                                    |9.2                                                               |\n",
            "|E01014398     |2010-12|Avon and Somerset Constabulary|Avon and Somerset Constabulary|-2.475536|51.412124|On or near Pixash Lane           |Bath and North East Somerset 003D|Violent crime|Bath and North East Somerset 003D|1423                                          |708                             |715                               |1423                                           |0                                                           |27                                                                                                        |136.66                                    |10.4                                                              |\n",
            "|E01014409     |2010-12|Avon and Somerset Constabulary|Avon and Somerset Constabulary|-2.345114|51.401467|On or near Rose Hill             |Bath and North East Somerset 004A|Violent crime|Bath and North East Somerset 004A|1590                                          |738                             |852                               |1559                                           |31                                                          |21                                                                                                        |31.88                                     |49.9                                                              |\n",
            "|E01014409     |2010-12|Avon and Somerset Constabulary|Avon and Somerset Constabulary|-2.345526|51.398948|On or near Daffords Buildings    |Bath and North East Somerset 004A|Violent crime|Bath and North East Somerset 004A|1590                                          |738                             |852                               |1559                                           |31                                                          |21                                                                                                        |31.88                                     |49.9                                                              |\n",
            "|E01014411     |2010-12|Avon and Somerset Constabulary|Avon and Somerset Constabulary|-2.345196|51.395263|On or near Beaufort East         |Bath and North East Somerset 004C|Violent crime|Bath and North East Somerset 004C|2109                                          |1025                            |1084                              |2084                                           |25                                                          |40                                                                                                        |92.78                                     |22.7                                                              |\n",
            "|E01014411     |2010-12|Avon and Somerset Constabulary|Avon and Somerset Constabulary|-2.344593|51.397144|On or near Upper Lambridge Street|Bath and North East Somerset 004C|Violent crime|Bath and North East Somerset 004C|2109                                          |1025                            |1084                              |2084                                           |25                                                          |40                                                                                                        |92.78                                     |22.7                                                              |\n",
            "|E01014411     |2010-12|Avon and Somerset Constabulary|Avon and Somerset Constabulary|-2.336398|51.400818|On or near Eveleigh Avenue       |Bath and North East Somerset 004C|Violent crime|Bath and North East Somerset 004C|2109                                          |1025                            |1084                              |2084                                           |25                                                          |40                                                                                                        |92.78                                     |22.7                                                              |\n",
            "|E01014477     |2010-12|Avon and Somerset Constabulary|Avon and Somerset Constabulary|-2.39648 |51.401898|On or near Haviland Grove        |Bath and North East Somerset 005A|Violent crime|Bath and North East Somerset 005A|1454                                          |691                             |763                               |1454                                           |0                                                           |21                                                                                                        |46.64                                     |31.2                                                              |\n",
            "|E01014477     |2010-12|Avon and Somerset Constabulary|Avon and Somerset Constabulary|-2.399473|51.405476|On or near Napier Road           |Bath and North East Somerset 005A|Violent crime|Bath and North East Somerset 005A|1454                                          |691                             |763                               |1454                                           |0                                                           |21                                                                                                        |46.64                                     |31.2                                                              |\n",
            "|E01014477     |2010-12|Avon and Somerset Constabulary|Avon and Somerset Constabulary|-2.399473|51.405476|On or near Napier Road           |Bath and North East Somerset 005A|Violent crime|Bath and North East Somerset 005A|1454                                          |691                             |763                               |1454                                           |0                                                           |21                                                                                                        |46.64                                     |31.2                                                              |\n",
            "|E01014477     |2010-12|Avon and Somerset Constabulary|Avon and Somerset Constabulary|-2.399473|51.405476|On or near Napier Road           |Bath and North East Somerset 005A|Violent crime|Bath and North East Somerset 005A|1454                                          |691                             |763                               |1454                                           |0                                                           |21                                                                                                        |46.64                                     |31.2                                                              |\n",
            "|E01014465     |2010-12|Avon and Somerset Constabulary|Avon and Somerset Constabulary|-2.353375|51.397109|On or near Midsummer Buildings   |Bath and North East Somerset 006A|Violent crime|Bath and North East Somerset 006A|1517                                          |722                             |795                               |1502                                           |15                                                          |16                                                                                                        |17.89                                     |84.8                                                              |\n",
            "|E01014465     |2010-12|Avon and Somerset Constabulary|Avon and Somerset Constabulary|-2.353375|51.397109|On or near Midsummer Buildings   |Bath and North East Somerset 006A|Violent crime|Bath and North East Somerset 006A|1517                                          |722                             |795                               |1502                                           |15                                                          |16                                                                                                        |17.89                                     |84.8                                                              |\n",
            "|E01014466     |2010-12|Avon and Somerset Constabulary|Avon and Somerset Constabulary|-2.357276|51.390542|On or near Pera Road             |Bath and North East Somerset 006B|Violent crime|Bath and North East Somerset 006B|1263                                          |653                             |610                               |1262                                           |1                                                           |14                                                                                                        |13.03                                     |96.9                                                              |\n",
            "+--------------+-------+------------------------------+------------------------------+---------+---------+---------------------------------+---------------------------------+-------------+---------------------------------+----------------------------------------------+--------------------------------+----------------------------------+-----------------------------------------------+------------------------------------------------------------+----------------------------------------------------------------------------------------------------------+------------------------------------------+------------------------------------------------------------------+\n",
            "only showing top 20 rows\n",
            "\n"
          ],
          "name": "stdout"
        }
      ]
    },
    {
      "cell_type": "code",
      "metadata": {
        "id": "kKtrv-Kn3UEa"
      },
      "source": [
        "f2=f1.select('Crime type','Location','Variable: All usual residents; measures: Value').groupby('Crime type','Location','Variable: All usual residents; measures: Value').count().orderBy('count', ascending=False)"
      ],
      "execution_count": null,
      "outputs": []
    },
    {
      "cell_type": "code",
      "metadata": {
        "colab": {
          "base_uri": "https://localhost:8080/"
        },
        "id": "1ggRK1yk4rX4",
        "outputId": "2800864f-3af7-478f-f472-7c2f1e275c02"
      },
      "source": [
        "f2.show(truncate=False)"
      ],
      "execution_count": null,
      "outputs": [
        {
          "output_type": "stream",
          "text": [
            "+-------------+-------------------------------+----------------------------------------------+-----+\n",
            "|Crime type   |Location                       |Variable: All usual residents; measures: Value|count|\n",
            "+-------------+-------------------------------+----------------------------------------------+-----+\n",
            "|Violent crime|On or near Nightclub           |1972                                          |514  |\n",
            "|Violent crime|On or near Shopping Area       |1020                                          |405  |\n",
            "|Violent crime|On or near Prince Of Wales Road|1397                                          |404  |\n",
            "|Violent crime|On or near Victoria            |1769                                          |367  |\n",
            "|Violent crime|On or near Caroline Street     |1099                                          |332  |\n",
            "|Violent crime|On or near Trinity Street      |1708                                          |331  |\n",
            "|Violent crime|On or near Leeds               |1017                                          |320  |\n",
            "|Violent crime|On or near Nightclub           |1670                                          |299  |\n",
            "|Violent crime|On or near Nightclub           |1803                                          |294  |\n",
            "|Violent crime|On or near Gravel Street       |1800                                          |293  |\n",
            "|Violent crime|On or near Albert Road South   |2231                                          |280  |\n",
            "|Violent crime|On or near Fir Vale Road       |1871                                          |278  |\n",
            "|Violent crime|On or near Collingwood Street  |1187                                          |271  |\n",
            "|Violent crime|On or near St. James Street    |1549                                          |269  |\n",
            "|Violent crime|On or near Guildhall Walk      |2607                                          |268  |\n",
            "|Violent crime|On or near West Street         |1625                                          |268  |\n",
            "|Violent crime|On or near Bridge Street       |1891                                          |265  |\n",
            "|Violent crime|On or near Newgate Street      |1302                                          |259  |\n",
            "|Violent crime|On or near Liverpool Street    |1044                                          |256  |\n",
            "|Violent crime|On or near Surrey Street       |2607                                          |251  |\n",
            "+-------------+-------------------------------+----------------------------------------------+-----+\n",
            "only showing top 20 rows\n",
            "\n"
          ],
          "name": "stdout"
        }
      ]
    },
    {
      "cell_type": "code",
      "metadata": {
        "id": "9uaKwEIh-8PR"
      },
      "source": [
        "ratio=f2['count']/f2['Variable: All usual residents; measures: Value']"
      ],
      "execution_count": null,
      "outputs": []
    },
    {
      "cell_type": "code",
      "metadata": {
        "colab": {
          "base_uri": "https://localhost:8080/"
        },
        "id": "ex1gzIgfBGnn",
        "outputId": "789d4c8f-f4ee-4ed6-c94a-f337c9834ed7"
      },
      "source": [
        "f3=f2.withColumn(\"ratio\",ratio)\r\n",
        "f3.show()"
      ],
      "execution_count": null,
      "outputs": [
        {
          "output_type": "stream",
          "text": [
            "+-------------+--------------------+----------------------------------------------+-----+-------------------+\n",
            "|   Crime type|            Location|Variable: All usual residents; measures: Value|count|              ratio|\n",
            "+-------------+--------------------+----------------------------------------------+-----+-------------------+\n",
            "|Violent crime|On or near Nightclub|                                          1972|  514| 0.2606490872210953|\n",
            "|Violent crime|On or near Shoppi...|                                          1020|  405|0.39705882352941174|\n",
            "|Violent crime|On or near Prince...|                                          1397|  404|0.28919112383679313|\n",
            "|Violent crime| On or near Victoria|                                          1769|  367|0.20746184284906727|\n",
            "|Violent crime|On or near Caroli...|                                          1099|  332| 0.3020928116469518|\n",
            "|Violent crime|On or near Trinit...|                                          1708|  331|0.19379391100702575|\n",
            "|Violent crime|    On or near Leeds|                                          1017|  320|0.31465093411996065|\n",
            "|Violent crime|On or near Nightclub|                                          1670|  299|0.17904191616766468|\n",
            "|Violent crime|On or near Nightclub|                                          1803|  294|0.16306156405990016|\n",
            "|Violent crime|On or near Gravel...|                                          1800|  293|0.16277777777777777|\n",
            "|Violent crime|On or near Albert...|                                          2231|  280|0.12550425818018826|\n",
            "|Violent crime|On or near Fir Va...|                                          1871|  278|0.14858364510956706|\n",
            "|Violent crime|On or near Collin...|                                          1187|  271|0.22830665543386688|\n",
            "|Violent crime|On or near St. Ja...|                                          1549|  269| 0.1736604260813428|\n",
            "|Violent crime|On or near Guildh...|                                          2607|  268|0.10280015343306483|\n",
            "|Violent crime|On or near West S...|                                          1625|  268|0.16492307692307692|\n",
            "|Violent crime|On or near Bridge...|                                          1891|  265|0.14013749338974088|\n",
            "|Violent crime|On or near Newgat...|                                          1302|  259| 0.1989247311827957|\n",
            "|Violent crime|On or near Liverp...|                                          1044|  256|0.24521072796934865|\n",
            "|Violent crime|On or near Surrey...|                                          2607|  251|0.09627924817798235|\n",
            "+-------------+--------------------+----------------------------------------------+-----+-------------------+\n",
            "only showing top 20 rows\n",
            "\n"
          ],
          "name": "stdout"
        }
      ]
    },
    {
      "cell_type": "code",
      "metadata": {
        "colab": {
          "base_uri": "https://localhost:8080/"
        },
        "id": "hrgdr-mWCRMc",
        "outputId": "28151d80-8bfc-4b36-83d6-54358cd7fb2c"
      },
      "source": [
        "f33=f3.orderBy('ratio', ascending=False)\r\n",
        "f33.show()"
      ],
      "execution_count": null,
      "outputs": [
        {
          "output_type": "stream",
          "text": [
            "+-------------+--------------------+----------------------------------------------+-----+-------------------+\n",
            "|   Crime type|            Location|Variable: All usual residents; measures: Value|count|              ratio|\n",
            "+-------------+--------------------+----------------------------------------------+-----+-------------------+\n",
            "|Violent crime|On or near Shoppi...|                                          1020|  405|0.39705882352941174|\n",
            "|Violent crime|    On or near Leeds|                                          1017|  320|0.31465093411996065|\n",
            "|Violent crime|On or near Caroli...|                                          1099|  332| 0.3020928116469518|\n",
            "|Violent crime|On or near Prince...|                                          1397|  404|0.28919112383679313|\n",
            "|Violent crime|On or near Nightclub|                                          1972|  514| 0.2606490872210953|\n",
            "|Violent crime|On or near Liverp...|                                          1044|  256|0.24521072796934865|\n",
            "|Violent crime|On or near Collin...|                                          1187|  271|0.22830665543386688|\n",
            "|Violent crime|On or near Fisher...|                                          1029|  217| 0.2108843537414966|\n",
            "|Violent crime|On or near Nightclub|                                          1020|  213| 0.2088235294117647|\n",
            "|Violent crime| On or near Victoria|                                          1769|  367|0.20746184284906727|\n",
            "|Violent crime|On or near Newgat...|                                          1302|  259| 0.1989247311827957|\n",
            "|Violent crime|On or near Trinit...|                                          1708|  331|0.19379391100702575|\n",
            "|Violent crime|On or near Birmin...|                                          1020|  197| 0.1931372549019608|\n",
            "|Violent crime|On or near Nightclub|                                          1670|  299|0.17904191616766468|\n",
            "|Violent crime|On or near Wind S...|                                          1169|  208|0.17792985457656116|\n",
            "|Violent crime|On or near Nightclub|                                          1397|  244|0.17465998568360774|\n",
            "|Violent crime|On or near St. Ja...|                                          1549|  269| 0.1736604260813428|\n",
            "|Violent crime|On or near Parkin...|                                          1019|  174|0.17075564278704614|\n",
            "|Violent crime|On or near Crockh...|                                          1020|  174|0.17058823529411765|\n",
            "|Violent crime|On or near West S...|                                          1625|  268|0.16492307692307692|\n",
            "+-------------+--------------------+----------------------------------------------+-----+-------------------+\n",
            "only showing top 20 rows\n",
            "\n"
          ],
          "name": "stdout"
        }
      ]
    },
    {
      "cell_type": "markdown",
      "metadata": {
        "id": "j9-07v8hRL6C"
      },
      "source": [
        "###Since there is no firearms incident category under crime type we assume firearms incident will come under 'violent crime' category . for finding the per head count , we took the count for people those who commited crime and divided by the total number of residents in corresponding location . So we got a ratio. Then we find out the location corresponding to the maximum ratio. From the results, it is evident that the firearms incidents per head is more On or near shopping area(ratio:0.397) . Now we have to check the corresponding geographyical details for the location specified."
      ]
    },
    {
      "cell_type": "code",
      "metadata": {
        "colab": {
          "base_uri": "https://localhost:8080/"
        },
        "id": "au_cgyLTGVRr",
        "outputId": "ec498eb0-ffe6-4ff2-f8fe-19842afd4a2b"
      },
      "source": [
        "df2.filter((df2['Crime type'] == \"Violent crime\")&(df2['Location']==\"On or near Shopping Area\")&(df2['geography']=='Birmingham 138A')).show()"
      ],
      "execution_count": null,
      "outputs": [
        {
          "output_type": "stream",
          "text": [
            "+--------------+-------+--------------------+--------------------+---------+---------+--------------------+---------------+-------------+---------------+----------------------------------------------+--------------------------------+----------------------------------+-----------------------------------------------+------------------------------------------------------------+----------------------------------------------------------------------------------------------------------+------------------------------------------+------------------------------------------------------------------+\n",
            "|geography code|  Month|         Reported by|        Falls within|Longitude| Latitude|            Location|      LSOA name|   Crime type|      geography|Variable: All usual residents; measures: Value|Variable: Males; measures: Value|Variable: Females; measures: Value|Variable: Lives in a household; measures: Value|Variable: Lives in a communal establishment; measures: Value|Variable: Schoolchild or full-time student aged 4 and over at their non term-time address; measures: Value|Variable: Area (Hectares); measures: Value|Variable: Density (number of persons per hectare); measures: Value|\n",
            "+--------------+-------+--------------------+--------------------+---------+---------+--------------------+---------------+-------------+---------------+----------------------------------------------+--------------------------------+----------------------------------+-----------------------------------------------+------------------------------------------------------------+----------------------------------------------------------------------------------------------------------+------------------------------------------+------------------------------------------------------------------+\n",
            "|     E01033620|2011-12|West Midlands Police|West Midlands Police|-1.893689|52.481371|On or near Shoppi...|Birmingham 138A|Violent crime|Birmingham 138A|                                          1020|                             597|                               423|                                           1019|                                                           1|                                                                                                         5|                                     53.91|                                                              18.9|\n",
            "|     E01033620|2011-12|West Midlands Police|West Midlands Police|-1.893689|52.481371|On or near Shoppi...|Birmingham 138A|Violent crime|Birmingham 138A|                                          1020|                             597|                               423|                                           1019|                                                           1|                                                                                                         5|                                     53.91|                                                              18.9|\n",
            "|     E01033620|2011-12|West Midlands Police|West Midlands Police|-1.896092|52.480169|On or near Shoppi...|Birmingham 138A|Violent crime|Birmingham 138A|                                          1020|                             597|                               423|                                           1019|                                                           1|                                                                                                         5|                                     53.91|                                                              18.9|\n",
            "|     E01033620|2011-12|West Midlands Police|West Midlands Police|-1.898659| 52.47813|On or near Shoppi...|Birmingham 138A|Violent crime|Birmingham 138A|                                          1020|                             597|                               423|                                           1019|                                                           1|                                                                                                         5|                                     53.91|                                                              18.9|\n",
            "|     E01033620|2011-12|West Midlands Police|West Midlands Police|-1.895697|52.479224|On or near Shoppi...|Birmingham 138A|Violent crime|Birmingham 138A|                                          1020|                             597|                               423|                                           1019|                                                           1|                                                                                                         5|                                     53.91|                                                              18.9|\n",
            "|     E01033620|2011-12|West Midlands Police|West Midlands Police|-1.893782|52.479366|On or near Shoppi...|Birmingham 138A|Violent crime|Birmingham 138A|                                          1020|                             597|                               423|                                           1019|                                                           1|                                                                                                         5|                                     53.91|                                                              18.9|\n",
            "|     E01033620|2011-12|West Midlands Police|West Midlands Police|-1.893782|52.479366|On or near Shoppi...|Birmingham 138A|Violent crime|Birmingham 138A|                                          1020|                             597|                               423|                                           1019|                                                           1|                                                                                                         5|                                     53.91|                                                              18.9|\n",
            "|     E01033620|2011-12|West Midlands Police|West Midlands Police|-1.893782|52.479366|On or near Shoppi...|Birmingham 138A|Violent crime|Birmingham 138A|                                          1020|                             597|                               423|                                           1019|                                                           1|                                                                                                         5|                                     53.91|                                                              18.9|\n",
            "|     E01033620|2012-01|West Midlands Police|West Midlands Police|-1.896092|52.480169|On or near Shoppi...|Birmingham 138A|Violent crime|Birmingham 138A|                                          1020|                             597|                               423|                                           1019|                                                           1|                                                                                                         5|                                     53.91|                                                              18.9|\n",
            "|     E01033620|2012-01|West Midlands Police|West Midlands Police|-1.898659| 52.47813|On or near Shoppi...|Birmingham 138A|Violent crime|Birmingham 138A|                                          1020|                             597|                               423|                                           1019|                                                           1|                                                                                                         5|                                     53.91|                                                              18.9|\n",
            "|     E01033620|2012-01|West Midlands Police|West Midlands Police|-1.896092|52.480169|On or near Shoppi...|Birmingham 138A|Violent crime|Birmingham 138A|                                          1020|                             597|                               423|                                           1019|                                                           1|                                                                                                         5|                                     53.91|                                                              18.9|\n",
            "|     E01033620|2012-01|West Midlands Police|West Midlands Police|-1.896092|52.480169|On or near Shoppi...|Birmingham 138A|Violent crime|Birmingham 138A|                                          1020|                             597|                               423|                                           1019|                                                           1|                                                                                                         5|                                     53.91|                                                              18.9|\n",
            "|     E01033620|2012-01|West Midlands Police|West Midlands Police|-1.896092|52.480169|On or near Shoppi...|Birmingham 138A|Violent crime|Birmingham 138A|                                          1020|                             597|                               423|                                           1019|                                                           1|                                                                                                         5|                                     53.91|                                                              18.9|\n",
            "|     E01033620|2012-01|West Midlands Police|West Midlands Police|-1.896092|52.480169|On or near Shoppi...|Birmingham 138A|Violent crime|Birmingham 138A|                                          1020|                             597|                               423|                                           1019|                                                           1|                                                                                                         5|                                     53.91|                                                              18.9|\n",
            "|     E01033620|2012-01|West Midlands Police|West Midlands Police|-1.897796|52.482067|On or near Shoppi...|Birmingham 138A|Violent crime|Birmingham 138A|                                          1020|                             597|                               423|                                           1019|                                                           1|                                                                                                         5|                                     53.91|                                                              18.9|\n",
            "|     E01033620|2012-01|West Midlands Police|West Midlands Police|-1.896092|52.480169|On or near Shoppi...|Birmingham 138A|Violent crime|Birmingham 138A|                                          1020|                             597|                               423|                                           1019|                                                           1|                                                                                                         5|                                     53.91|                                                              18.9|\n",
            "|     E01033620|2012-01|West Midlands Police|West Midlands Police|-1.894661|52.481417|On or near Shoppi...|Birmingham 138A|Violent crime|Birmingham 138A|                                          1020|                             597|                               423|                                           1019|                                                           1|                                                                                                         5|                                     53.91|                                                              18.9|\n",
            "|     E01033620|2012-01|West Midlands Police|West Midlands Police|-1.894661|52.481417|On or near Shoppi...|Birmingham 138A|Violent crime|Birmingham 138A|                                          1020|                             597|                               423|                                           1019|                                                           1|                                                                                                         5|                                     53.91|                                                              18.9|\n",
            "|     E01033620|2012-01|West Midlands Police|West Midlands Police|-1.894661|52.481417|On or near Shoppi...|Birmingham 138A|Violent crime|Birmingham 138A|                                          1020|                             597|                               423|                                           1019|                                                           1|                                                                                                         5|                                     53.91|                                                              18.9|\n",
            "|     E01033620|2012-01|West Midlands Police|West Midlands Police|-1.893689|52.481371|On or near Shoppi...|Birmingham 138A|Violent crime|Birmingham 138A|                                          1020|                             597|                               423|                                           1019|                                                           1|                                                                                                         5|                                     53.91|                                                              18.9|\n",
            "+--------------+-------+--------------------+--------------------+---------+---------+--------------------+---------------+-------------+---------------+----------------------------------------------+--------------------------------+----------------------------------+-----------------------------------------------+------------------------------------------------------------+----------------------------------------------------------------------------------------------------------+------------------------------------------+------------------------------------------------------------------+\n",
            "only showing top 20 rows\n",
            "\n"
          ],
          "name": "stdout"
        }
      ]
    },
    {
      "cell_type": "markdown",
      "metadata": {
        "id": "H5cF5PrNRoNd"
      },
      "source": [
        "### From the results, it is evident that the shopping are is in BIrmingham 138A in UK. So second claim seems true, there are more firarm incidents in birmingham UK. "
      ]
    },
    {
      "cell_type": "markdown",
      "metadata": {
        "id": "LPGBES4uk8gY"
      },
      "source": [
        "# **3.\tCrimes involving firearms are closely associated with drugs offences**\r\n",
        "\r\n"
      ]
    },
    {
      "cell_type": "code",
      "metadata": {
        "id": "rXUjcGKuvgqN"
      },
      "source": [
        "\r\n",
        "D1=df2.filter((df2['Crime type'] == \"Drugs\"))"
      ],
      "execution_count": null,
      "outputs": []
    },
    {
      "cell_type": "code",
      "metadata": {
        "colab": {
          "base_uri": "https://localhost:8080/"
        },
        "id": "PsdIUidGUgLa",
        "outputId": "d591d2b3-ec80-4e99-b6ec-77f3877c8ffe"
      },
      "source": [
        "D1.show(truncate=False)"
      ],
      "execution_count": null,
      "outputs": [
        {
          "output_type": "stream",
          "text": [
            "+--------------+-------+------------------------------+------------------------------+---------+---------+-----------------------------+---------------------------------+----------+---------------------------------+----------------------------------------------+--------------------------------+----------------------------------+-----------------------------------------------+------------------------------------------------------------+----------------------------------------------------------------------------------------------------------+------------------------------------------+------------------------------------------------------------------+\n",
            "|geography code|Month  |Reported by                   |Falls within                  |Longitude|Latitude |Location                     |LSOA name                        |Crime type|geography                        |Variable: All usual residents; measures: Value|Variable: Males; measures: Value|Variable: Females; measures: Value|Variable: Lives in a household; measures: Value|Variable: Lives in a communal establishment; measures: Value|Variable: Schoolchild or full-time student aged 4 and over at their non term-time address; measures: Value|Variable: Area (Hectares); measures: Value|Variable: Density (number of persons per hectare); measures: Value|\n",
            "+--------------+-------+------------------------------+------------------------------+---------+---------+-----------------------------+---------------------------------+----------+---------------------------------+----------------------------------------------+--------------------------------+----------------------------------+-----------------------------------------------+------------------------------------------------------------+----------------------------------------------------------------------------------------------------------+------------------------------------------+------------------------------------------------------------------+\n",
            "|E01014404     |2011-09|Avon and Somerset Constabulary|Avon and Somerset Constabulary|-2.507   |51.408557|On or near Tenby Road        |Bath and North East Somerset 002C|Drugs     |Bath and North East Somerset 002C|1669                                          |769                             |900                               |1668                                           |1                                                           |14                                                                                                        |71.26                                     |23.4                                                              |\n",
            "|E01014396     |2011-09|Avon and Somerset Constabulary|Avon and Somerset Constabulary|-2.492186|51.413386|On or near Dragons Hill Court|Bath and North East Somerset 003B|Drugs     |Bath and North East Somerset 003B|1434                                          |669                             |765                               |1401                                           |33                                                          |11                                                                                                        |156.62                                    |9.2                                                               |\n",
            "|E01014398     |2011-09|Avon and Somerset Constabulary|Avon and Somerset Constabulary|-2.483019|51.412705|On or near Bath Road         |Bath and North East Somerset 003D|Drugs     |Bath and North East Somerset 003D|1423                                          |708                             |715                               |1423                                           |0                                                           |27                                                                                                        |136.66                                    |10.4                                                              |\n",
            "|E01014480     |2011-09|Avon and Somerset Constabulary|Avon and Somerset Constabulary|-2.392587|51.3972  |On or near Harcourt Gardens  |Bath and North East Somerset 005D|Drugs     |Bath and North East Somerset 005D|1261                                          |625                             |636                               |1261                                           |0                                                           |14                                                                                                        |20.87                                     |60.4                                                              |\n",
            "|E01014370     |2011-09|Avon and Somerset Constabulary|Avon and Somerset Constabulary|-2.36158 |51.384073|On or near Milsom Street     |Bath and North East Somerset 007A|Drugs     |Bath and North East Somerset 007A|1800                                          |924                             |876                               |1666                                           |134                                                         |22                                                                                                        |37.69                                     |47.8                                                              |\n",
            "|E01014370     |2011-09|Avon and Somerset Constabulary|Avon and Somerset Constabulary|-2.360317|51.38431 |On or near Broad Street      |Bath and North East Somerset 007A|Drugs     |Bath and North East Somerset 007A|1800                                          |924                             |876                               |1666                                           |134                                                         |22                                                                                                        |37.69                                     |47.8                                                              |\n",
            "|E01014370     |2011-09|Avon and Somerset Constabulary|Avon and Somerset Constabulary|-2.3623  |51.380654|On or near Westgate Buildings|Bath and North East Somerset 007A|Drugs     |Bath and North East Somerset 007A|1800                                          |924                             |876                               |1666                                           |134                                                         |22                                                                                                        |37.69                                     |47.8                                                              |\n",
            "|E01014370     |2011-09|Avon and Somerset Constabulary|Avon and Somerset Constabulary|-2.360317|51.38431 |On or near Broad Street      |Bath and North East Somerset 007A|Drugs     |Bath and North East Somerset 007A|1800                                          |924                             |876                               |1666                                           |134                                                         |22                                                                                                        |37.69                                     |47.8                                                              |\n",
            "|E01014370     |2011-09|Avon and Somerset Constabulary|Avon and Somerset Constabulary|-2.360317|51.38431 |On or near Broad Street      |Bath and North East Somerset 007A|Drugs     |Bath and North East Somerset 007A|1800                                          |924                             |876                               |1666                                           |134                                                         |22                                                                                                        |37.69                                     |47.8                                                              |\n",
            "|E01014371     |2011-09|Avon and Somerset Constabulary|Avon and Somerset Constabulary|-2.352659|51.384442|On or near Edward Street     |Bath and North East Somerset 007B|Drugs     |Bath and North East Somerset 007B|1866                                          |942                             |924                               |1830                                           |36                                                          |34                                                                                                        |40.96                                     |45.6                                                              |\n",
            "|E01014371     |2011-09|Avon and Somerset Constabulary|Avon and Somerset Constabulary|-2.357056|51.378871|On or near Manvers Street    |Bath and North East Somerset 007B|Drugs     |Bath and North East Somerset 007B|1866                                          |942                             |924                               |1830                                           |36                                                          |34                                                                                                        |40.96                                     |45.6                                                              |\n",
            "|E01014371     |2011-09|Avon and Somerset Constabulary|Avon and Somerset Constabulary|-2.357056|51.378871|On or near Manvers Street    |Bath and North East Somerset 007B|Drugs     |Bath and North East Somerset 007B|1866                                          |942                             |924                               |1830                                           |36                                                          |34                                                                                                        |40.96                                     |45.6                                                              |\n",
            "|E01014371     |2011-09|Avon and Somerset Constabulary|Avon and Somerset Constabulary|-2.357056|51.378871|On or near Manvers Street    |Bath and North East Somerset 007B|Drugs     |Bath and North East Somerset 007B|1866                                          |942                             |924                               |1830                                           |36                                                          |34                                                                                                        |40.96                                     |45.6                                                              |\n",
            "|E01014371     |2011-09|Avon and Somerset Constabulary|Avon and Somerset Constabulary|-2.357056|51.378871|On or near Manvers Street    |Bath and North East Somerset 007B|Drugs     |Bath and North East Somerset 007B|1866                                          |942                             |924                               |1830                                           |36                                                          |34                                                                                                        |40.96                                     |45.6                                                              |\n",
            "|E01014372     |2011-09|Avon and Somerset Constabulary|Avon and Somerset Constabulary|-2.364555|51.385979|On or near The Circus        |Bath and North East Somerset 007C|Drugs     |Bath and North East Somerset 007C|2004                                          |1037                            |967                               |1984                                           |20                                                          |12                                                                                                        |16.67                                     |120.2                                                             |\n",
            "|E01014372     |2011-09|Avon and Somerset Constabulary|Avon and Somerset Constabulary|-2.362041|51.385977|On or near Alfred Street     |Bath and North East Somerset 007C|Drugs     |Bath and North East Somerset 007C|2004                                          |1037                            |967                               |1984                                           |20                                                          |12                                                                                                        |16.67                                     |120.2                                                             |\n",
            "|E01014414     |2011-09|Avon and Somerset Constabulary|Avon and Somerset Constabulary|-2.363492|51.387744|On or near Julian Road       |Bath and North East Somerset 007F|Drugs     |Bath and North East Somerset 007F|1529                                          |770                             |759                               |1474                                           |55                                                          |16                                                                                                        |20.33                                     |75.2                                                              |\n",
            "|E01014407     |2011-09|Avon and Somerset Constabulary|Avon and Somerset Constabulary|-2.364755|51.383919|On or near Queens Parade     |Bath and North East Somerset 009C|Drugs     |Bath and North East Somerset 009C|1235                                          |626                             |609                               |1045                                           |190                                                         |10                                                                                                        |23.14                                     |53.4                                                              |\n",
            "|E01033080     |2011-09|Avon and Somerset Constabulary|Avon and Somerset Constabulary|-2.368086|51.387244|On or near Royal Crescent    |Bath and North East Somerset 009E|Drugs     |Bath and North East Somerset 009E|2205                                          |1149                            |1056                              |2187                                           |18                                                          |39                                                                                                        |52.42                                     |42.1                                                              |\n",
            "|E01033080     |2011-09|Avon and Somerset Constabulary|Avon and Somerset Constabulary|-2.37642 |51.38533 |On or near Upper Bristol Road|Bath and North East Somerset 009E|Drugs     |Bath and North East Somerset 009E|2205                                          |1149                            |1056                              |2187                                           |18                                                          |39                                                                                                        |52.42                                     |42.1                                                              |\n",
            "+--------------+-------+------------------------------+------------------------------+---------+---------+-----------------------------+---------------------------------+----------+---------------------------------+----------------------------------------------+--------------------------------+----------------------------------+-----------------------------------------------+------------------------------------------------------------+----------------------------------------------------------------------------------------------------------+------------------------------------------+------------------------------------------------------------------+\n",
            "only showing top 20 rows\n",
            "\n"
          ],
          "name": "stdout"
        }
      ]
    },
    {
      "cell_type": "code",
      "metadata": {
        "id": "jVU7tZxzVjSw"
      },
      "source": [
        "D2=D1.select('Crime type','geography','Variable: All usual residents; measures: Value').groupby('Crime type','geography','Variable: All usual residents; measures: Value').count().orderBy('count', ascending=False)"
      ],
      "execution_count": null,
      "outputs": []
    },
    {
      "cell_type": "code",
      "metadata": {
        "colab": {
          "base_uri": "https://localhost:8080/"
        },
        "id": "NEODtcXrdn0X",
        "outputId": "2fe2123e-5f73-4395-eacb-07cf325cbe56"
      },
      "source": [
        "D2.show(truncate=False)"
      ],
      "execution_count": null,
      "outputs": [
        {
          "output_type": "stream",
          "text": [
            "+----------+-------------------------+----------------------------------------------+-----+\n",
            "|Crime type|geography                |Variable: All usual residents; measures: Value|count|\n",
            "+----------+-------------------------+----------------------------------------------+-----+\n",
            "|Drugs     |Westminster 018A         |1972                                          |2931 |\n",
            "|Drugs     |Camden 021A              |1481                                          |2060 |\n",
            "|Drugs     |City of London 001F      |1044                                          |1971 |\n",
            "|Drugs     |Westminster 013B         |2127                                          |1772 |\n",
            "|Drugs     |Westminster 023E         |1769                                          |1685 |\n",
            "|Drugs     |Westminster 018C         |1744                                          |1672 |\n",
            "|Drugs     |Liverpool 061C           |1185                                          |1558 |\n",
            "|Drugs     |Kingston upon Thames 009C|2631                                          |1345 |\n",
            "|Drugs     |Manchester 055B          |1670                                          |1282 |\n",
            "|Drugs     |Liverpool 060C           |2115                                          |1276 |\n",
            "|Drugs     |Nottingham 039B          |1309                                          |1219 |\n",
            "|Drugs     |Cardiff 049B             |1355                                          |1194 |\n",
            "|Drugs     |Watford 009C             |2231                                          |1161 |\n",
            "|Drugs     |Newcastle upon Tyne 024G |1302                                          |1147 |\n",
            "|Drugs     |Westminster 013E         |1175                                          |1117 |\n",
            "|Drugs     |Swansea 025F             |1555                                          |1084 |\n",
            "|Drugs     |Swansea 025B             |2259                                          |1071 |\n",
            "|Drugs     |Croydon 027B             |2578                                          |1068 |\n",
            "|Drugs     |Tower Hamlets 015B       |2186                                          |1063 |\n",
            "|Drugs     |Newcastle upon Tyne 024H |1187                                          |1038 |\n",
            "+----------+-------------------------+----------------------------------------------+-----+\n",
            "only showing top 20 rows\n",
            "\n"
          ],
          "name": "stdout"
        }
      ]
    },
    {
      "cell_type": "code",
      "metadata": {
        "id": "w-xttvQ9dsWV"
      },
      "source": [
        "from pyspark.sql.functions import floor, col\r\n",
        "\r\n",
        "\r\n",
        "ratio=D2['count']/D2['Variable: All usual residents; measures: Value']"
      ],
      "execution_count": null,
      "outputs": []
    },
    {
      "cell_type": "markdown",
      "metadata": {
        "id": "Sg4o7pGeIY9X"
      },
      "source": [
        ""
      ]
    },
    {
      "cell_type": "code",
      "metadata": {
        "colab": {
          "base_uri": "https://localhost:8080/"
        },
        "id": "MGFG55hrdyoC",
        "outputId": "44094cdf-b7dc-4ca7-d17b-7d5da9b18149"
      },
      "source": [
        "from pyspark.sql.functions import ceil, col\r\n",
        "\r\n",
        "D3=D2.withColumn(\"ratio\",ceil(ratio)).orderBy('ratio', ascending=True)\r\n",
        "D3.show()\r\n",
        "# printing ratio acscending"
      ],
      "execution_count": null,
      "outputs": [
        {
          "output_type": "stream",
          "text": [
            "+----------+--------------------+----------------------------------------------+-----+-----+\n",
            "|Crime type|           geography|Variable: All usual residents; measures: Value|count|ratio|\n",
            "+----------+--------------------+----------------------------------------------+-----+-----+\n",
            "|     Drugs|  Tower Hamlets 013A|                                          2106|  213|    1|\n",
            "|     Drugs|  Cheshire East 019B|                                          1797|   16|    1|\n",
            "|     Drugs|      Allerdale 009B|                                          1693|   29|    1|\n",
            "|     Drugs|North East Derbys...|                                          1412|    3|    1|\n",
            "|     Drugs|       Cornwall 062A|                                          1557|   10|    1|\n",
            "|     Drugs|   North Dorset 007D|                                          1993|   61|    1|\n",
            "|     Drugs|  County Durham 058C|                                          1608|  100|    1|\n",
            "|     Drugs|     Caerphilly 013C|                                          1512|    8|    1|\n",
            "|     Drugs|        Torfaen 002D|                                          1211|   23|    1|\n",
            "|     Drugs|     Portsmouth 004B|                                          1510|   28|    1|\n",
            "|     Drugs|    Test Valley 002E|                                          1348|   26|    1|\n",
            "|     Drugs|         Medway 012B|                                          1660|   47|    1|\n",
            "|     Drugs|   South Ribble 013B|                                          1340|   32|    1|\n",
            "|     Drugs|      Leicester 001D|                                          1744|   72|    1|\n",
            "|     Drugs|      Liverpool 054C|                                          1848|   56|    1|\n",
            "|     Drugs|         Sefton 005A|                                          1484|   50|    1|\n",
            "|     Drugs|        Enfield 027B|                                          1862|  281|    1|\n",
            "|     Drugs|      Greenwich 011B|                                          1350|  114|    1|\n",
            "|     Drugs|       Haringey 023A|                                          2058|   32|    1|\n",
            "|     Drugs|     Hillingdon 007B|                                          1358|   25|    1|\n",
            "+----------+--------------------+----------------------------------------------+-----+-----+\n",
            "only showing top 20 rows\n",
            "\n"
          ],
          "name": "stdout"
        }
      ]
    },
    {
      "cell_type": "code",
      "metadata": {
        "colab": {
          "base_uri": "https://localhost:8080/"
        },
        "id": "ZXSfEzcYGORO",
        "outputId": "5dc38d22-6819-43d4-8ca5-67c5f9a90655"
      },
      "source": [
        "location=D3.orderBy('ratio', ascending=True)\r\n",
        "location.show()"
      ],
      "execution_count": null,
      "outputs": [
        {
          "output_type": "stream",
          "text": [
            "+----------+--------------------+----------------------------------------------+-----+-----+\n",
            "|Crime type|           geography|Variable: All usual residents; measures: Value|count|ratio|\n",
            "+----------+--------------------+----------------------------------------------+-----+-----+\n",
            "|     Drugs|  Tower Hamlets 013A|                                          2106|  213|    0|\n",
            "|     Drugs|  Cheshire East 019B|                                          1797|   16|    0|\n",
            "|     Drugs|      Allerdale 009B|                                          1693|   29|    0|\n",
            "|     Drugs|North East Derbys...|                                          1412|    3|    0|\n",
            "|     Drugs|       Cornwall 062A|                                          1557|   10|    0|\n",
            "|     Drugs|   North Dorset 007D|                                          1993|   61|    0|\n",
            "|     Drugs|  County Durham 058C|                                          1608|  100|    0|\n",
            "|     Drugs|     Caerphilly 013C|                                          1512|    8|    0|\n",
            "|     Drugs|        Torfaen 002D|                                          1211|   23|    0|\n",
            "|     Drugs|     Portsmouth 004B|                                          1510|   28|    0|\n",
            "|     Drugs|    Test Valley 002E|                                          1348|   26|    0|\n",
            "|     Drugs|         Medway 012B|                                          1660|   47|    0|\n",
            "|     Drugs|   South Ribble 013B|                                          1340|   32|    0|\n",
            "|     Drugs|      Leicester 001D|                                          1744|   72|    0|\n",
            "|     Drugs|      Liverpool 054C|                                          1848|   56|    0|\n",
            "|     Drugs|         Sefton 005A|                                          1484|   50|    0|\n",
            "|     Drugs|        Enfield 027B|                                          1862|  281|    0|\n",
            "|     Drugs|      Greenwich 011B|                                          1350|  114|    0|\n",
            "|     Drugs|       Haringey 023A|                                          2058|   32|    0|\n",
            "|     Drugs|     Hillingdon 007B|                                          1358|   25|    0|\n",
            "+----------+--------------------+----------------------------------------------+-----+-----+\n",
            "only showing top 20 rows\n",
            "\n"
          ],
          "name": "stdout"
        }
      ]
    },
    {
      "cell_type": "code",
      "metadata": {
        "colab": {
          "base_uri": "https://localhost:8080/"
        },
        "id": "FpGODw2Pd_hx",
        "outputId": "7b18a0a7-62fc-4688-f29f-11e2c702c488"
      },
      "source": [
        "drugs=D3.filter((D3['geography'] == \"Birmingham 138A\"))\r\n",
        "drugs.show(truncate=False)"
      ],
      "execution_count": null,
      "outputs": [
        {
          "output_type": "stream",
          "text": [
            "+----------+---------------+----------------------------------------------+-----+-----+\n",
            "|Crime type|geography      |Variable: All usual residents; measures: Value|count|ratio|\n",
            "+----------+---------------+----------------------------------------------+-----+-----+\n",
            "|Drugs     |Birmingham 138A|1020                                          |924  |1    |\n",
            "+----------+---------------+----------------------------------------------+-----+-----+\n",
            "\n"
          ],
          "name": "stdout"
        }
      ]
    },
    {
      "cell_type": "markdown",
      "metadata": {
        "id": "c6u5HmOvCq__"
      },
      "source": [
        "###From the results, it is evident that the drug cases are very high in birmingham UK . From the previous claim, we found that there are more firearm incidents in birmingham UK. Comparing these two results, we can come to the conclusion that drugs is related to firearms incident."
      ]
    },
    {
      "cell_type": "code",
      "metadata": {
        "id": "22vadMr-vuUW"
      },
      "source": [
        "def converter(negetive):\r\n",
        "    if df2['negetive']== \"Violent crime\":\r\n",
        "        return 0\r\n",
        "    else:\r\n",
        "        return 1  "
      ],
      "execution_count": null,
      "outputs": []
    },
    {
      "cell_type": "code",
      "metadata": {
        "id": "K_3vUK3kdhOb",
        "colab": {
          "base_uri": "https://localhost:8080/",
          "height": 831
        },
        "outputId": "b5517ff9-cb50-42ff-c6ec-4d7a4548bd75"
      },
      "source": [
        "\r\n",
        "#label.show(5)\r\n",
        "df2.show()"
      ],
      "execution_count": null,
      "outputs": [
        {
          "output_type": "stream",
          "text": [
            "ERROR:py4j.java_gateway:An error occurred while trying to connect to the Java server (127.0.0.1:46053)\n",
            "Traceback (most recent call last):\n",
            "  File \"/usr/local/lib/python3.6/dist-packages/py4j/java_gateway.py\", line 977, in _get_connection\n",
            "    connection = self.deque.pop()\n",
            "IndexError: pop from an empty deque\n",
            "\n",
            "During handling of the above exception, another exception occurred:\n",
            "\n",
            "Traceback (most recent call last):\n",
            "  File \"/usr/local/lib/python3.6/dist-packages/py4j/java_gateway.py\", line 1115, in start\n",
            "    self.socket.connect((self.address, self.port))\n",
            "ConnectionRefusedError: [Errno 111] Connection refused\n"
          ],
          "name": "stderr"
        },
        {
          "output_type": "error",
          "ename": "Py4JNetworkError",
          "evalue": "ignored",
          "traceback": [
            "\u001b[0;31m---------------------------------------------------------------------------\u001b[0m",
            "\u001b[0;31mIndexError\u001b[0m                                Traceback (most recent call last)",
            "\u001b[0;32m/usr/local/lib/python3.6/dist-packages/py4j/java_gateway.py\u001b[0m in \u001b[0;36m_get_connection\u001b[0;34m(self)\u001b[0m\n\u001b[1;32m    976\u001b[0m         \u001b[0;32mtry\u001b[0m\u001b[0;34m:\u001b[0m\u001b[0;34m\u001b[0m\u001b[0;34m\u001b[0m\u001b[0m\n\u001b[0;32m--> 977\u001b[0;31m             \u001b[0mconnection\u001b[0m \u001b[0;34m=\u001b[0m \u001b[0mself\u001b[0m\u001b[0;34m.\u001b[0m\u001b[0mdeque\u001b[0m\u001b[0;34m.\u001b[0m\u001b[0mpop\u001b[0m\u001b[0;34m(\u001b[0m\u001b[0;34m)\u001b[0m\u001b[0;34m\u001b[0m\u001b[0;34m\u001b[0m\u001b[0m\n\u001b[0m\u001b[1;32m    978\u001b[0m         \u001b[0;32mexcept\u001b[0m \u001b[0mIndexError\u001b[0m\u001b[0;34m:\u001b[0m\u001b[0;34m\u001b[0m\u001b[0;34m\u001b[0m\u001b[0m\n",
            "\u001b[0;31mIndexError\u001b[0m: pop from an empty deque",
            "\nDuring handling of the above exception, another exception occurred:\n",
            "\u001b[0;31mConnectionRefusedError\u001b[0m                    Traceback (most recent call last)",
            "\u001b[0;32m/usr/local/lib/python3.6/dist-packages/py4j/java_gateway.py\u001b[0m in \u001b[0;36mstart\u001b[0;34m(self)\u001b[0m\n\u001b[1;32m   1114\u001b[0m         \u001b[0;32mtry\u001b[0m\u001b[0;34m:\u001b[0m\u001b[0;34m\u001b[0m\u001b[0;34m\u001b[0m\u001b[0m\n\u001b[0;32m-> 1115\u001b[0;31m             \u001b[0mself\u001b[0m\u001b[0;34m.\u001b[0m\u001b[0msocket\u001b[0m\u001b[0;34m.\u001b[0m\u001b[0mconnect\u001b[0m\u001b[0;34m(\u001b[0m\u001b[0;34m(\u001b[0m\u001b[0mself\u001b[0m\u001b[0;34m.\u001b[0m\u001b[0maddress\u001b[0m\u001b[0;34m,\u001b[0m \u001b[0mself\u001b[0m\u001b[0;34m.\u001b[0m\u001b[0mport\u001b[0m\u001b[0;34m)\u001b[0m\u001b[0;34m)\u001b[0m\u001b[0;34m\u001b[0m\u001b[0;34m\u001b[0m\u001b[0m\n\u001b[0m\u001b[1;32m   1116\u001b[0m             \u001b[0mself\u001b[0m\u001b[0;34m.\u001b[0m\u001b[0mstream\u001b[0m \u001b[0;34m=\u001b[0m \u001b[0mself\u001b[0m\u001b[0;34m.\u001b[0m\u001b[0msocket\u001b[0m\u001b[0;34m.\u001b[0m\u001b[0mmakefile\u001b[0m\u001b[0;34m(\u001b[0m\u001b[0;34m\"rb\"\u001b[0m\u001b[0;34m)\u001b[0m\u001b[0;34m\u001b[0m\u001b[0;34m\u001b[0m\u001b[0m\n",
            "\u001b[0;31mConnectionRefusedError\u001b[0m: [Errno 111] Connection refused",
            "\nDuring handling of the above exception, another exception occurred:\n",
            "\u001b[0;31mPy4JNetworkError\u001b[0m                          Traceback (most recent call last)",
            "\u001b[0;32m<ipython-input-77-7b9dc1a1c559>\u001b[0m in \u001b[0;36m<module>\u001b[0;34m()\u001b[0m\n\u001b[1;32m      1\u001b[0m \u001b[0;34m\u001b[0m\u001b[0m\n\u001b[1;32m      2\u001b[0m \u001b[0;31m#label.show(5)\u001b[0m\u001b[0;34m\u001b[0m\u001b[0;34m\u001b[0m\u001b[0;34m\u001b[0m\u001b[0m\n\u001b[0;32m----> 3\u001b[0;31m \u001b[0mdf2\u001b[0m\u001b[0;34m.\u001b[0m\u001b[0mshow\u001b[0m\u001b[0;34m(\u001b[0m\u001b[0;34m)\u001b[0m\u001b[0;34m\u001b[0m\u001b[0;34m\u001b[0m\u001b[0m\n\u001b[0m",
            "\u001b[0;32m/usr/local/lib/python3.6/dist-packages/pyspark/sql/dataframe.py\u001b[0m in \u001b[0;36mshow\u001b[0;34m(self, n, truncate, vertical)\u001b[0m\n\u001b[1;32m    438\u001b[0m         \"\"\"\n\u001b[1;32m    439\u001b[0m         \u001b[0;32mif\u001b[0m \u001b[0misinstance\u001b[0m\u001b[0;34m(\u001b[0m\u001b[0mtruncate\u001b[0m\u001b[0;34m,\u001b[0m \u001b[0mbool\u001b[0m\u001b[0;34m)\u001b[0m \u001b[0;32mand\u001b[0m \u001b[0mtruncate\u001b[0m\u001b[0;34m:\u001b[0m\u001b[0;34m\u001b[0m\u001b[0;34m\u001b[0m\u001b[0m\n\u001b[0;32m--> 440\u001b[0;31m             \u001b[0mprint\u001b[0m\u001b[0;34m(\u001b[0m\u001b[0mself\u001b[0m\u001b[0;34m.\u001b[0m\u001b[0m_jdf\u001b[0m\u001b[0;34m.\u001b[0m\u001b[0mshowString\u001b[0m\u001b[0;34m(\u001b[0m\u001b[0mn\u001b[0m\u001b[0;34m,\u001b[0m \u001b[0;36m20\u001b[0m\u001b[0;34m,\u001b[0m \u001b[0mvertical\u001b[0m\u001b[0;34m)\u001b[0m\u001b[0;34m)\u001b[0m\u001b[0;34m\u001b[0m\u001b[0;34m\u001b[0m\u001b[0m\n\u001b[0m\u001b[1;32m    441\u001b[0m         \u001b[0;32melse\u001b[0m\u001b[0;34m:\u001b[0m\u001b[0;34m\u001b[0m\u001b[0;34m\u001b[0m\u001b[0m\n\u001b[1;32m    442\u001b[0m             \u001b[0mprint\u001b[0m\u001b[0;34m(\u001b[0m\u001b[0mself\u001b[0m\u001b[0;34m.\u001b[0m\u001b[0m_jdf\u001b[0m\u001b[0;34m.\u001b[0m\u001b[0mshowString\u001b[0m\u001b[0;34m(\u001b[0m\u001b[0mn\u001b[0m\u001b[0;34m,\u001b[0m \u001b[0mint\u001b[0m\u001b[0;34m(\u001b[0m\u001b[0mtruncate\u001b[0m\u001b[0;34m)\u001b[0m\u001b[0;34m,\u001b[0m \u001b[0mvertical\u001b[0m\u001b[0;34m)\u001b[0m\u001b[0;34m)\u001b[0m\u001b[0;34m\u001b[0m\u001b[0;34m\u001b[0m\u001b[0m\n",
            "\u001b[0;32m/usr/local/lib/python3.6/dist-packages/py4j/java_gateway.py\u001b[0m in \u001b[0;36m__call__\u001b[0;34m(self, *args)\u001b[0m\n\u001b[1;32m   1301\u001b[0m             \u001b[0mproto\u001b[0m\u001b[0;34m.\u001b[0m\u001b[0mEND_COMMAND_PART\u001b[0m\u001b[0;34m\u001b[0m\u001b[0;34m\u001b[0m\u001b[0m\n\u001b[1;32m   1302\u001b[0m \u001b[0;34m\u001b[0m\u001b[0m\n\u001b[0;32m-> 1303\u001b[0;31m         \u001b[0manswer\u001b[0m \u001b[0;34m=\u001b[0m \u001b[0mself\u001b[0m\u001b[0;34m.\u001b[0m\u001b[0mgateway_client\u001b[0m\u001b[0;34m.\u001b[0m\u001b[0msend_command\u001b[0m\u001b[0;34m(\u001b[0m\u001b[0mcommand\u001b[0m\u001b[0;34m)\u001b[0m\u001b[0;34m\u001b[0m\u001b[0;34m\u001b[0m\u001b[0m\n\u001b[0m\u001b[1;32m   1304\u001b[0m         return_value = get_return_value(\n\u001b[1;32m   1305\u001b[0m             answer, self.gateway_client, self.target_id, self.name)\n",
            "\u001b[0;32m/usr/local/lib/python3.6/dist-packages/py4j/java_gateway.py\u001b[0m in \u001b[0;36msend_command\u001b[0;34m(self, command, retry, binary)\u001b[0m\n\u001b[1;32m   1029\u001b[0m          \u001b[0;32mif\u001b[0m\u001b[0;31m \u001b[0m\u001b[0;31m`\u001b[0m\u001b[0mbinary\u001b[0m\u001b[0;31m`\u001b[0m \u001b[0;32mis\u001b[0m\u001b[0;31m \u001b[0m\u001b[0;31m`\u001b[0m\u001b[0;32mTrue\u001b[0m\u001b[0;31m`\u001b[0m\u001b[0;34m.\u001b[0m\u001b[0;34m\u001b[0m\u001b[0;34m\u001b[0m\u001b[0m\n\u001b[1;32m   1030\u001b[0m         \"\"\"\n\u001b[0;32m-> 1031\u001b[0;31m         \u001b[0mconnection\u001b[0m \u001b[0;34m=\u001b[0m \u001b[0mself\u001b[0m\u001b[0;34m.\u001b[0m\u001b[0m_get_connection\u001b[0m\u001b[0;34m(\u001b[0m\u001b[0;34m)\u001b[0m\u001b[0;34m\u001b[0m\u001b[0;34m\u001b[0m\u001b[0m\n\u001b[0m\u001b[1;32m   1032\u001b[0m         \u001b[0;32mtry\u001b[0m\u001b[0;34m:\u001b[0m\u001b[0;34m\u001b[0m\u001b[0;34m\u001b[0m\u001b[0m\n\u001b[1;32m   1033\u001b[0m             \u001b[0mresponse\u001b[0m \u001b[0;34m=\u001b[0m \u001b[0mconnection\u001b[0m\u001b[0;34m.\u001b[0m\u001b[0msend_command\u001b[0m\u001b[0;34m(\u001b[0m\u001b[0mcommand\u001b[0m\u001b[0;34m)\u001b[0m\u001b[0;34m\u001b[0m\u001b[0;34m\u001b[0m\u001b[0m\n",
            "\u001b[0;32m/usr/local/lib/python3.6/dist-packages/py4j/java_gateway.py\u001b[0m in \u001b[0;36m_get_connection\u001b[0;34m(self)\u001b[0m\n\u001b[1;32m    977\u001b[0m             \u001b[0mconnection\u001b[0m \u001b[0;34m=\u001b[0m \u001b[0mself\u001b[0m\u001b[0;34m.\u001b[0m\u001b[0mdeque\u001b[0m\u001b[0;34m.\u001b[0m\u001b[0mpop\u001b[0m\u001b[0;34m(\u001b[0m\u001b[0;34m)\u001b[0m\u001b[0;34m\u001b[0m\u001b[0;34m\u001b[0m\u001b[0m\n\u001b[1;32m    978\u001b[0m         \u001b[0;32mexcept\u001b[0m \u001b[0mIndexError\u001b[0m\u001b[0;34m:\u001b[0m\u001b[0;34m\u001b[0m\u001b[0;34m\u001b[0m\u001b[0m\n\u001b[0;32m--> 979\u001b[0;31m             \u001b[0mconnection\u001b[0m \u001b[0;34m=\u001b[0m \u001b[0mself\u001b[0m\u001b[0;34m.\u001b[0m\u001b[0m_create_connection\u001b[0m\u001b[0;34m(\u001b[0m\u001b[0;34m)\u001b[0m\u001b[0;34m\u001b[0m\u001b[0;34m\u001b[0m\u001b[0m\n\u001b[0m\u001b[1;32m    980\u001b[0m         \u001b[0;32mreturn\u001b[0m \u001b[0mconnection\u001b[0m\u001b[0;34m\u001b[0m\u001b[0;34m\u001b[0m\u001b[0m\n\u001b[1;32m    981\u001b[0m \u001b[0;34m\u001b[0m\u001b[0m\n",
            "\u001b[0;32m/usr/local/lib/python3.6/dist-packages/py4j/java_gateway.py\u001b[0m in \u001b[0;36m_create_connection\u001b[0;34m(self)\u001b[0m\n\u001b[1;32m    983\u001b[0m         connection = GatewayConnection(\n\u001b[1;32m    984\u001b[0m             self.gateway_parameters, self.gateway_property)\n\u001b[0;32m--> 985\u001b[0;31m         \u001b[0mconnection\u001b[0m\u001b[0;34m.\u001b[0m\u001b[0mstart\u001b[0m\u001b[0;34m(\u001b[0m\u001b[0;34m)\u001b[0m\u001b[0;34m\u001b[0m\u001b[0;34m\u001b[0m\u001b[0m\n\u001b[0m\u001b[1;32m    986\u001b[0m         \u001b[0;32mreturn\u001b[0m \u001b[0mconnection\u001b[0m\u001b[0;34m\u001b[0m\u001b[0;34m\u001b[0m\u001b[0m\n\u001b[1;32m    987\u001b[0m \u001b[0;34m\u001b[0m\u001b[0m\n",
            "\u001b[0;32m/usr/local/lib/python3.6/dist-packages/py4j/java_gateway.py\u001b[0m in \u001b[0;36mstart\u001b[0;34m(self)\u001b[0m\n\u001b[1;32m   1125\u001b[0m                 \u001b[0;34m\"server ({0}:{1})\"\u001b[0m\u001b[0;34m.\u001b[0m\u001b[0mformat\u001b[0m\u001b[0;34m(\u001b[0m\u001b[0mself\u001b[0m\u001b[0;34m.\u001b[0m\u001b[0maddress\u001b[0m\u001b[0;34m,\u001b[0m \u001b[0mself\u001b[0m\u001b[0;34m.\u001b[0m\u001b[0mport\u001b[0m\u001b[0;34m)\u001b[0m\u001b[0;34m\u001b[0m\u001b[0;34m\u001b[0m\u001b[0m\n\u001b[1;32m   1126\u001b[0m             \u001b[0mlogger\u001b[0m\u001b[0;34m.\u001b[0m\u001b[0mexception\u001b[0m\u001b[0;34m(\u001b[0m\u001b[0mmsg\u001b[0m\u001b[0;34m)\u001b[0m\u001b[0;34m\u001b[0m\u001b[0;34m\u001b[0m\u001b[0m\n\u001b[0;32m-> 1127\u001b[0;31m             \u001b[0;32mraise\u001b[0m \u001b[0mPy4JNetworkError\u001b[0m\u001b[0;34m(\u001b[0m\u001b[0mmsg\u001b[0m\u001b[0;34m,\u001b[0m \u001b[0me\u001b[0m\u001b[0;34m)\u001b[0m\u001b[0;34m\u001b[0m\u001b[0;34m\u001b[0m\u001b[0m\n\u001b[0m\u001b[1;32m   1128\u001b[0m \u001b[0;34m\u001b[0m\u001b[0m\n\u001b[1;32m   1129\u001b[0m     \u001b[0;32mdef\u001b[0m \u001b[0m_authenticate_connection\u001b[0m\u001b[0;34m(\u001b[0m\u001b[0mself\u001b[0m\u001b[0;34m)\u001b[0m\u001b[0;34m:\u001b[0m\u001b[0;34m\u001b[0m\u001b[0;34m\u001b[0m\u001b[0m\n",
            "\u001b[0;31mPy4JNetworkError\u001b[0m: An error occurred while trying to connect to the Java server (127.0.0.1:46053)"
          ]
        }
      ]
    },
    {
      "cell_type": "code",
      "metadata": {
        "id": "3X4o26-hd2VY",
        "colab": {
          "base_uri": "https://localhost:8080/",
          "height": 1000
        },
        "outputId": "6adcd3e5-0577-4aba-f50c-c73323dbd78f"
      },
      "source": [
        " df2=df2.toPandas()\r\n",
        "\r\n",
        "# Create data frame\r\n",
        "#df2['label']=converter(df2)\r\n"
      ],
      "execution_count": null,
      "outputs": [
        {
          "output_type": "error",
          "ename": "Py4JJavaError",
          "evalue": "ignored",
          "traceback": [
            "\u001b[0;31m---------------------------------------------------------------------------\u001b[0m",
            "\u001b[0;31mPy4JJavaError\u001b[0m                             Traceback (most recent call last)",
            "\u001b[0;32m<ipython-input-76-a6a482e1fb22>\u001b[0m in \u001b[0;36m<module>\u001b[0;34m()\u001b[0m\n\u001b[0;32m----> 1\u001b[0;31m \u001b[0mdf2\u001b[0m\u001b[0;34m=\u001b[0m\u001b[0mdf2\u001b[0m\u001b[0;34m.\u001b[0m\u001b[0mtoPandas\u001b[0m\u001b[0;34m(\u001b[0m\u001b[0;34m)\u001b[0m\u001b[0;34m\u001b[0m\u001b[0;34m\u001b[0m\u001b[0m\n\u001b[0m\u001b[1;32m      2\u001b[0m \u001b[0;34m\u001b[0m\u001b[0m\n\u001b[1;32m      3\u001b[0m \u001b[0;31m# Create data frame\u001b[0m\u001b[0;34m\u001b[0m\u001b[0;34m\u001b[0m\u001b[0;34m\u001b[0m\u001b[0m\n\u001b[1;32m      4\u001b[0m \u001b[0;31m#df2['label']=converter(df2)\u001b[0m\u001b[0;34m\u001b[0m\u001b[0;34m\u001b[0m\u001b[0;34m\u001b[0m\u001b[0m\n",
            "\u001b[0;32m/usr/local/lib/python3.6/dist-packages/pyspark/sql/pandas/conversion.py\u001b[0m in \u001b[0;36mtoPandas\u001b[0;34m(self)\u001b[0m\n\u001b[1;32m    136\u001b[0m \u001b[0;34m\u001b[0m\u001b[0m\n\u001b[1;32m    137\u001b[0m         \u001b[0;31m# Below is toPandas without Arrow optimization.\u001b[0m\u001b[0;34m\u001b[0m\u001b[0;34m\u001b[0m\u001b[0;34m\u001b[0m\u001b[0m\n\u001b[0;32m--> 138\u001b[0;31m         \u001b[0mpdf\u001b[0m \u001b[0;34m=\u001b[0m \u001b[0mpd\u001b[0m\u001b[0;34m.\u001b[0m\u001b[0mDataFrame\u001b[0m\u001b[0;34m.\u001b[0m\u001b[0mfrom_records\u001b[0m\u001b[0;34m(\u001b[0m\u001b[0mself\u001b[0m\u001b[0;34m.\u001b[0m\u001b[0mcollect\u001b[0m\u001b[0;34m(\u001b[0m\u001b[0;34m)\u001b[0m\u001b[0;34m,\u001b[0m \u001b[0mcolumns\u001b[0m\u001b[0;34m=\u001b[0m\u001b[0mself\u001b[0m\u001b[0;34m.\u001b[0m\u001b[0mcolumns\u001b[0m\u001b[0;34m)\u001b[0m\u001b[0;34m\u001b[0m\u001b[0;34m\u001b[0m\u001b[0m\n\u001b[0m\u001b[1;32m    139\u001b[0m         \u001b[0mcolumn_counter\u001b[0m \u001b[0;34m=\u001b[0m \u001b[0mCounter\u001b[0m\u001b[0;34m(\u001b[0m\u001b[0mself\u001b[0m\u001b[0;34m.\u001b[0m\u001b[0mcolumns\u001b[0m\u001b[0;34m)\u001b[0m\u001b[0;34m\u001b[0m\u001b[0;34m\u001b[0m\u001b[0m\n\u001b[1;32m    140\u001b[0m \u001b[0;34m\u001b[0m\u001b[0m\n",
            "\u001b[0;32m/usr/local/lib/python3.6/dist-packages/pyspark/sql/dataframe.py\u001b[0m in \u001b[0;36mcollect\u001b[0;34m(self)\u001b[0m\n\u001b[1;32m    594\u001b[0m         \"\"\"\n\u001b[1;32m    595\u001b[0m         \u001b[0;32mwith\u001b[0m \u001b[0mSCCallSiteSync\u001b[0m\u001b[0;34m(\u001b[0m\u001b[0mself\u001b[0m\u001b[0;34m.\u001b[0m\u001b[0m_sc\u001b[0m\u001b[0;34m)\u001b[0m \u001b[0;32mas\u001b[0m \u001b[0mcss\u001b[0m\u001b[0;34m:\u001b[0m\u001b[0;34m\u001b[0m\u001b[0;34m\u001b[0m\u001b[0m\n\u001b[0;32m--> 596\u001b[0;31m             \u001b[0msock_info\u001b[0m \u001b[0;34m=\u001b[0m \u001b[0mself\u001b[0m\u001b[0;34m.\u001b[0m\u001b[0m_jdf\u001b[0m\u001b[0;34m.\u001b[0m\u001b[0mcollectToPython\u001b[0m\u001b[0;34m(\u001b[0m\u001b[0;34m)\u001b[0m\u001b[0;34m\u001b[0m\u001b[0;34m\u001b[0m\u001b[0m\n\u001b[0m\u001b[1;32m    597\u001b[0m         \u001b[0;32mreturn\u001b[0m \u001b[0mlist\u001b[0m\u001b[0;34m(\u001b[0m\u001b[0m_load_from_socket\u001b[0m\u001b[0;34m(\u001b[0m\u001b[0msock_info\u001b[0m\u001b[0;34m,\u001b[0m \u001b[0mBatchedSerializer\u001b[0m\u001b[0;34m(\u001b[0m\u001b[0mPickleSerializer\u001b[0m\u001b[0;34m(\u001b[0m\u001b[0;34m)\u001b[0m\u001b[0;34m)\u001b[0m\u001b[0;34m)\u001b[0m\u001b[0;34m)\u001b[0m\u001b[0;34m\u001b[0m\u001b[0;34m\u001b[0m\u001b[0m\n\u001b[1;32m    598\u001b[0m \u001b[0;34m\u001b[0m\u001b[0m\n",
            "\u001b[0;32m/usr/local/lib/python3.6/dist-packages/py4j/java_gateway.py\u001b[0m in \u001b[0;36m__call__\u001b[0;34m(self, *args)\u001b[0m\n\u001b[1;32m   1303\u001b[0m         \u001b[0manswer\u001b[0m \u001b[0;34m=\u001b[0m \u001b[0mself\u001b[0m\u001b[0;34m.\u001b[0m\u001b[0mgateway_client\u001b[0m\u001b[0;34m.\u001b[0m\u001b[0msend_command\u001b[0m\u001b[0;34m(\u001b[0m\u001b[0mcommand\u001b[0m\u001b[0;34m)\u001b[0m\u001b[0;34m\u001b[0m\u001b[0;34m\u001b[0m\u001b[0m\n\u001b[1;32m   1304\u001b[0m         return_value = get_return_value(\n\u001b[0;32m-> 1305\u001b[0;31m             answer, self.gateway_client, self.target_id, self.name)\n\u001b[0m\u001b[1;32m   1306\u001b[0m \u001b[0;34m\u001b[0m\u001b[0m\n\u001b[1;32m   1307\u001b[0m         \u001b[0;32mfor\u001b[0m \u001b[0mtemp_arg\u001b[0m \u001b[0;32min\u001b[0m \u001b[0mtemp_args\u001b[0m\u001b[0;34m:\u001b[0m\u001b[0;34m\u001b[0m\u001b[0;34m\u001b[0m\u001b[0m\n",
            "\u001b[0;32m/usr/local/lib/python3.6/dist-packages/pyspark/sql/utils.py\u001b[0m in \u001b[0;36mdeco\u001b[0;34m(*a, **kw)\u001b[0m\n\u001b[1;32m    126\u001b[0m     \u001b[0;32mdef\u001b[0m \u001b[0mdeco\u001b[0m\u001b[0;34m(\u001b[0m\u001b[0;34m*\u001b[0m\u001b[0ma\u001b[0m\u001b[0;34m,\u001b[0m \u001b[0;34m**\u001b[0m\u001b[0mkw\u001b[0m\u001b[0;34m)\u001b[0m\u001b[0;34m:\u001b[0m\u001b[0;34m\u001b[0m\u001b[0;34m\u001b[0m\u001b[0m\n\u001b[1;32m    127\u001b[0m         \u001b[0;32mtry\u001b[0m\u001b[0;34m:\u001b[0m\u001b[0;34m\u001b[0m\u001b[0;34m\u001b[0m\u001b[0m\n\u001b[0;32m--> 128\u001b[0;31m             \u001b[0;32mreturn\u001b[0m \u001b[0mf\u001b[0m\u001b[0;34m(\u001b[0m\u001b[0;34m*\u001b[0m\u001b[0ma\u001b[0m\u001b[0;34m,\u001b[0m \u001b[0;34m**\u001b[0m\u001b[0mkw\u001b[0m\u001b[0;34m)\u001b[0m\u001b[0;34m\u001b[0m\u001b[0;34m\u001b[0m\u001b[0m\n\u001b[0m\u001b[1;32m    129\u001b[0m         \u001b[0;32mexcept\u001b[0m \u001b[0mpy4j\u001b[0m\u001b[0;34m.\u001b[0m\u001b[0mprotocol\u001b[0m\u001b[0;34m.\u001b[0m\u001b[0mPy4JJavaError\u001b[0m \u001b[0;32mas\u001b[0m \u001b[0me\u001b[0m\u001b[0;34m:\u001b[0m\u001b[0;34m\u001b[0m\u001b[0;34m\u001b[0m\u001b[0m\n\u001b[1;32m    130\u001b[0m             \u001b[0mconverted\u001b[0m \u001b[0;34m=\u001b[0m \u001b[0mconvert_exception\u001b[0m\u001b[0;34m(\u001b[0m\u001b[0me\u001b[0m\u001b[0;34m.\u001b[0m\u001b[0mjava_exception\u001b[0m\u001b[0;34m)\u001b[0m\u001b[0;34m\u001b[0m\u001b[0;34m\u001b[0m\u001b[0m\n",
            "\u001b[0;32m/usr/local/lib/python3.6/dist-packages/py4j/protocol.py\u001b[0m in \u001b[0;36mget_return_value\u001b[0;34m(answer, gateway_client, target_id, name)\u001b[0m\n\u001b[1;32m    326\u001b[0m                 raise Py4JJavaError(\n\u001b[1;32m    327\u001b[0m                     \u001b[0;34m\"An error occurred while calling {0}{1}{2}.\\n\"\u001b[0m\u001b[0;34m.\u001b[0m\u001b[0;34m\u001b[0m\u001b[0;34m\u001b[0m\u001b[0m\n\u001b[0;32m--> 328\u001b[0;31m                     format(target_id, \".\", name), value)\n\u001b[0m\u001b[1;32m    329\u001b[0m             \u001b[0;32melse\u001b[0m\u001b[0;34m:\u001b[0m\u001b[0;34m\u001b[0m\u001b[0;34m\u001b[0m\u001b[0m\n\u001b[1;32m    330\u001b[0m                 raise Py4JError(\n",
            "\u001b[0;31mPy4JJavaError\u001b[0m: An error occurred while calling o50.collectToPython.\n: org.apache.spark.SparkException: Job aborted due to stage failure: Task 0 in stage 79.0 failed 1 times, most recent failure: Lost task 0.0 in stage 79.0 (TID 3255, 4dfa1496aafe, executor driver): java.lang.OutOfMemoryError: Java heap space\n\tat java.base/java.util.Arrays.copyOf(Arrays.java:3745)\n\tat java.base/java.io.ByteArrayOutputStream.grow(ByteArrayOutputStream.java:120)\n\tat java.base/java.io.ByteArrayOutputStream.ensureCapacity(ByteArrayOutputStream.java:95)\n\tat java.base/java.io.ByteArrayOutputStream.write(ByteArrayOutputStream.java:156)\n\tat net.jpountz.lz4.LZ4BlockOutputStream.flushBufferedData(LZ4BlockOutputStream.java:223)\n\tat net.jpountz.lz4.LZ4BlockOutputStream.write(LZ4BlockOutputStream.java:176)\n\tat java.base/java.io.DataOutputStream.write(DataOutputStream.java:107)\n\tat org.apache.spark.sql.catalyst.expressions.UnsafeRow.writeToStream(UnsafeRow.java:539)\n\tat org.apache.spark.sql.execution.SparkPlan.$anonfun$getByteArrayRdd$1(SparkPlan.scala:343)\n\tat org.apache.spark.sql.execution.SparkPlan$$Lambda$2164/0x0000000840f16840.apply(Unknown Source)\n\tat org.apache.spark.rdd.RDD.$anonfun$mapPartitionsInternal$2(RDD.scala:872)\n\tat org.apache.spark.rdd.RDD.$anonfun$mapPartitionsInternal$2$adapted(RDD.scala:872)\n\tat org.apache.spark.rdd.RDD$$Lambda$2160/0x0000000840f05840.apply(Unknown Source)\n\tat org.apache.spark.rdd.MapPartitionsRDD.compute(MapPartitionsRDD.scala:52)\n\tat org.apache.spark.rdd.RDD.computeOrReadCheckpoint(RDD.scala:349)\n\tat org.apache.spark.rdd.RDD.iterator(RDD.scala:313)\n\tat org.apache.spark.scheduler.ResultTask.runTask(ResultTask.scala:90)\n\tat org.apache.spark.scheduler.Task.run(Task.scala:127)\n\tat org.apache.spark.executor.Executor$TaskRunner.$anonfun$run$3(Executor.scala:446)\n\tat org.apache.spark.executor.Executor$TaskRunner$$Lambda$2127/0x0000000840ed9040.apply(Unknown Source)\n\tat org.apache.spark.util.Utils$.tryWithSafeFinally(Utils.scala:1377)\n\tat org.apache.spark.executor.Executor$TaskRunner.run(Executor.scala:449)\n\tat java.base/java.util.concurrent.ThreadPoolExecutor.runWorker(ThreadPoolExecutor.java:1128)\n\tat java.base/java.util.concurrent.ThreadPoolExecutor$Worker.run(ThreadPoolExecutor.java:628)\n\tat java.base/java.lang.Thread.run(Thread.java:834)\n\nDriver stacktrace:\n\tat org.apache.spark.scheduler.DAGScheduler.failJobAndIndependentStages(DAGScheduler.scala:2059)\n\tat org.apache.spark.scheduler.DAGScheduler.$anonfun$abortStage$2(DAGScheduler.scala:2008)\n\tat org.apache.spark.scheduler.DAGScheduler.$anonfun$abortStage$2$adapted(DAGScheduler.scala:2007)\n\tat scala.collection.mutable.ResizableArray.foreach(ResizableArray.scala:62)\n\tat scala.collection.mutable.ResizableArray.foreach$(ResizableArray.scala:55)\n\tat scala.collection.mutable.ArrayBuffer.foreach(ArrayBuffer.scala:49)\n\tat org.apache.spark.scheduler.DAGScheduler.abortStage(DAGScheduler.scala:2007)\n\tat org.apache.spark.scheduler.DAGScheduler.$anonfun$handleTaskSetFailed$1(DAGScheduler.scala:973)\n\tat org.apache.spark.scheduler.DAGScheduler.$anonfun$handleTaskSetFailed$1$adapted(DAGScheduler.scala:973)\n\tat scala.Option.foreach(Option.scala:407)\n\tat org.apache.spark.scheduler.DAGScheduler.handleTaskSetFailed(DAGScheduler.scala:973)\n\tat org.apache.spark.scheduler.DAGSchedulerEventProcessLoop.doOnReceive(DAGScheduler.scala:2239)\n\tat org.apache.spark.scheduler.DAGSchedulerEventProcessLoop.onReceive(DAGScheduler.scala:2188)\n\tat org.apache.spark.scheduler.DAGSchedulerEventProcessLoop.onReceive(DAGScheduler.scala:2177)\n\tat org.apache.spark.util.EventLoop$$anon$1.run(EventLoop.scala:49)\n\tat org.apache.spark.scheduler.DAGScheduler.runJob(DAGScheduler.scala:775)\n\tat org.apache.spark.SparkContext.runJob(SparkContext.scala:2099)\n\tat org.apache.spark.SparkContext.runJob(SparkContext.scala:2120)\n\tat org.apache.spark.SparkContext.runJob(SparkContext.scala:2139)\n\tat org.apache.spark.SparkContext.runJob(SparkContext.scala:2164)\n\tat org.apache.spark.rdd.RDD.$anonfun$collect$1(RDD.scala:1004)\n\tat org.apache.spark.rdd.RDDOperationScope$.withScope(RDDOperationScope.scala:151)\n\tat org.apache.spark.rdd.RDDOperationScope$.withScope(RDDOperationScope.scala:112)\n\tat org.apache.spark.rdd.RDD.withScope(RDD.scala:388)\n\tat org.apache.spark.rdd.RDD.collect(RDD.scala:1003)\n\tat org.apache.spark.sql.execution.SparkPlan.executeCollect(SparkPlan.scala:385)\n\tat org.apache.spark.sql.Dataset.$anonfun$collectToPython$1(Dataset.scala:3450)\n\tat org.apache.spark.sql.Dataset.$anonfun$withAction$1(Dataset.scala:3618)\n\tat org.apache.spark.sql.execution.SQLExecution$.$anonfun$withNewExecutionId$5(SQLExecution.scala:100)\n\tat org.apache.spark.sql.execution.SQLExecution$.withSQLConfPropagated(SQLExecution.scala:160)\n\tat org.apache.spark.sql.execution.SQLExecution$.$anonfun$withNewExecutionId$1(SQLExecution.scala:87)\n\tat org.apache.spark.sql.SparkSession.withActive(SparkSession.scala:764)\n\tat org.apache.spark.sql.execution.SQLExecution$.withNewExecutionId(SQLExecution.scala:64)\n\tat org.apache.spark.sql.Dataset.withAction(Dataset.scala:3616)\n\tat org.apache.spark.sql.Dataset.collectToPython(Dataset.scala:3447)\n\tat java.base/jdk.internal.reflect.NativeMethodAccessorImpl.invoke0(Native Method)\n\tat java.base/jdk.internal.reflect.NativeMethodAccessorImpl.invoke(NativeMethodAccessorImpl.java:62)\n\tat java.base/jdk.internal.reflect.DelegatingMethodAccessorImpl.invoke(DelegatingMethodAccessorImpl.java:43)\n\tat java.base/java.lang.reflect.Method.invoke(Method.java:566)\n\tat py4j.reflection.MethodInvoker.invoke(MethodInvoker.java:244)\n\tat py4j.reflection.ReflectionEngine.invoke(ReflectionEngine.java:357)\n\tat py4j.Gateway.invoke(Gateway.java:282)\n\tat py4j.commands.AbstractCommand.invokeMethod(AbstractCommand.java:132)\n\tat py4j.commands.CallCommand.execute(CallCommand.java:79)\n\tat py4j.GatewayConnection.run(GatewayConnection.java:238)\n\tat java.base/java.lang.Thread.run(Thread.java:834)\nCaused by: java.lang.OutOfMemoryError: Java heap space\n\tat java.base/java.util.Arrays.copyOf(Arrays.java:3745)\n\tat java.base/java.io.ByteArrayOutputStream.grow(ByteArrayOutputStream.java:120)\n\tat java.base/java.io.ByteArrayOutputStream.ensureCapacity(ByteArrayOutputStream.java:95)\n\tat java.base/java.io.ByteArrayOutputStream.write(ByteArrayOutputStream.java:156)\n\tat net.jpountz.lz4.LZ4BlockOutputStream.flushBufferedData(LZ4BlockOutputStream.java:223)\n\tat net.jpountz.lz4.LZ4BlockOutputStream.write(LZ4BlockOutputStream.java:176)\n\tat java.base/java.io.DataOutputStream.write(DataOutputStream.java:107)\n\tat org.apache.spark.sql.catalyst.expressions.UnsafeRow.writeToStream(UnsafeRow.java:539)\n\tat org.apache.spark.sql.execution.SparkPlan.$anonfun$getByteArrayRdd$1(SparkPlan.scala:343)\n\tat org.apache.spark.sql.execution.SparkPlan$$Lambda$2164/0x0000000840f16840.apply(Unknown Source)\n\tat org.apache.spark.rdd.RDD.$anonfun$mapPartitionsInternal$2(RDD.scala:872)\n\tat org.apache.spark.rdd.RDD.$anonfun$mapPartitionsInternal$2$adapted(RDD.scala:872)\n\tat org.apache.spark.rdd.RDD$$Lambda$2160/0x0000000840f05840.apply(Unknown Source)\n\tat org.apache.spark.rdd.MapPartitionsRDD.compute(MapPartitionsRDD.scala:52)\n\tat org.apache.spark.rdd.RDD.computeOrReadCheckpoint(RDD.scala:349)\n\tat org.apache.spark.rdd.RDD.iterator(RDD.scala:313)\n\tat org.apache.spark.scheduler.ResultTask.runTask(ResultTask.scala:90)\n\tat org.apache.spark.scheduler.Task.run(Task.scala:127)\n\tat org.apache.spark.executor.Executor$TaskRunner.$anonfun$run$3(Executor.scala:446)\n\tat org.apache.spark.executor.Executor$TaskRunner$$Lambda$2127/0x0000000840ed9040.apply(Unknown Source)\n\tat org.apache.spark.util.Utils$.tryWithSafeFinally(Utils.scala:1377)\n\tat org.apache.spark.executor.Executor$TaskRunner.run(Executor.scala:449)\n\tat java.base/java.util.concurrent.ThreadPoolExecutor.runWorker(ThreadPoolExecutor.java:1128)\n\tat java.base/java.util.concurrent.ThreadPoolExecutor$Worker.run(ThreadPoolExecutor.java:628)\n\t... 1 more\n"
          ]
        }
      ]
    },
    {
      "cell_type": "code",
      "metadata": {
        "colab": {
          "base_uri": "https://localhost:8080/"
        },
        "id": "Up7XxPbWMSoo",
        "outputId": "7832e7c9-0abd-4068-d2c7-54c3a0981f20"
      },
      "source": [
        "df2['Crime type']"
      ],
      "execution_count": null,
      "outputs": [
        {
          "output_type": "execute_result",
          "data": {
            "text/plain": [
              "Column<b'Crime type'>"
            ]
          },
          "metadata": {
            "tags": []
          },
          "execution_count": 62
        }
      ]
    },
    {
      "cell_type": "code",
      "metadata": {
        "id": "t8MdMV6DM1WI"
      },
      "source": [
        ""
      ],
      "execution_count": null,
      "outputs": []
    }
  ]
}